{
 "cells": [
  {
   "cell_type": "code",
   "execution_count": 1,
   "id": "ba2af73b",
   "metadata": {},
   "outputs": [],
   "source": [
    "import numpy as np\n",
    "import pandas as pd\n",
    "import tensorflow as tf\n",
    "import keras"
   ]
  },
  {
   "cell_type": "code",
   "execution_count": 2,
   "id": "33b460f4",
   "metadata": {},
   "outputs": [
    {
     "data": {
      "text/html": [
       "<div>\n",
       "<style scoped>\n",
       "    .dataframe tbody tr th:only-of-type {\n",
       "        vertical-align: middle;\n",
       "    }\n",
       "\n",
       "    .dataframe tbody tr th {\n",
       "        vertical-align: top;\n",
       "    }\n",
       "\n",
       "    .dataframe thead th {\n",
       "        text-align: right;\n",
       "    }\n",
       "</style>\n",
       "<table border=\"1\" class=\"dataframe\">\n",
       "  <thead>\n",
       "    <tr style=\"text-align: right;\">\n",
       "      <th></th>\n",
       "      <th>AT</th>\n",
       "      <th>V</th>\n",
       "      <th>AP</th>\n",
       "      <th>RH</th>\n",
       "      <th>PE</th>\n",
       "    </tr>\n",
       "  </thead>\n",
       "  <tbody>\n",
       "    <tr>\n",
       "      <th>0</th>\n",
       "      <td>14.96</td>\n",
       "      <td>41.76</td>\n",
       "      <td>1024.07</td>\n",
       "      <td>73.17</td>\n",
       "      <td>463.26</td>\n",
       "    </tr>\n",
       "    <tr>\n",
       "      <th>1</th>\n",
       "      <td>25.18</td>\n",
       "      <td>62.96</td>\n",
       "      <td>1020.04</td>\n",
       "      <td>59.08</td>\n",
       "      <td>444.37</td>\n",
       "    </tr>\n",
       "    <tr>\n",
       "      <th>2</th>\n",
       "      <td>5.11</td>\n",
       "      <td>39.40</td>\n",
       "      <td>1012.16</td>\n",
       "      <td>92.14</td>\n",
       "      <td>488.56</td>\n",
       "    </tr>\n",
       "    <tr>\n",
       "      <th>3</th>\n",
       "      <td>20.86</td>\n",
       "      <td>57.32</td>\n",
       "      <td>1010.24</td>\n",
       "      <td>76.64</td>\n",
       "      <td>446.48</td>\n",
       "    </tr>\n",
       "    <tr>\n",
       "      <th>4</th>\n",
       "      <td>10.82</td>\n",
       "      <td>37.50</td>\n",
       "      <td>1009.23</td>\n",
       "      <td>96.62</td>\n",
       "      <td>473.90</td>\n",
       "    </tr>\n",
       "  </tbody>\n",
       "</table>\n",
       "</div>"
      ],
      "text/plain": [
       "      AT      V       AP     RH      PE\n",
       "0  14.96  41.76  1024.07  73.17  463.26\n",
       "1  25.18  62.96  1020.04  59.08  444.37\n",
       "2   5.11  39.40  1012.16  92.14  488.56\n",
       "3  20.86  57.32  1010.24  76.64  446.48\n",
       "4  10.82  37.50  1009.23  96.62  473.90"
      ]
     },
     "execution_count": 2,
     "metadata": {},
     "output_type": "execute_result"
    }
   ],
   "source": [
    "df=pd.read_csv('C:\\\\Users\\\\Gaura\\\\OneDrive\\\\Desktop\\\\dataset\\\\energy.csv')\n",
    "df.head()"
   ]
  },
  {
   "cell_type": "markdown",
   "id": "c4024b16",
   "metadata": {},
   "source": [
    "x=df.iloc[:,:-1].values\n",
    "y=df.iloc[:,-1].values\n",
    "x,y"
   ]
  },
  {
   "cell_type": "code",
   "execution_count": 5,
   "id": "a06d6bcf",
   "metadata": {},
   "outputs": [],
   "source": [
    "from sklearn.model_selection import train_test_split\n",
    "x_train,x_test,y_train,y_test=train_test_split(x,y,test_size=0.2,random_state=0)"
   ]
  },
  {
   "cell_type": "markdown",
   "id": "40c9bc3d",
   "metadata": {},
   "source": [
    "# Building an ANN model"
   ]
  },
  {
   "cell_type": "code",
   "execution_count": 11,
   "id": "9f7d596a",
   "metadata": {},
   "outputs": [],
   "source": [
    "ann=tf.keras.models.Sequential()\n",
    "# sequential is the function we are using coz we have to follow the sequential order:i.e first input and then hidden layer"
   ]
  },
  {
   "cell_type": "markdown",
   "id": "2d8df14c",
   "metadata": {},
   "source": [
    "# Adding the input layer and the first hidden layer"
   ]
  },
  {
   "cell_type": "code",
   "execution_count": 8,
   "id": "e96ab362",
   "metadata": {},
   "outputs": [],
   "source": [
    "from keras.layers import Dense"
   ]
  },
  {
   "cell_type": "code",
   "execution_count": 14,
   "id": "5f5d03b5",
   "metadata": {},
   "outputs": [],
   "source": [
    "ann.add(Dense(input_dim=4,units=6,activation='relu',kernel_initializer='uniform'))\n",
    "# input_dim is the input that we have\n",
    "# units is the no of the hidden layer \n",
    "# actiation activation function that we want to use\n",
    "# Dense:-are the lines that we connect from the input layers to the hidden layer"
   ]
  },
  {
   "cell_type": "markdown",
   "id": "2183f752",
   "metadata": {},
   "source": [
    "# adding the second hidden layer"
   ]
  },
  {
   "cell_type": "code",
   "execution_count": 13,
   "id": "8b0b9e23",
   "metadata": {},
   "outputs": [],
   "source": [
    "ann.add(Dense(units=6,activation='relu'))"
   ]
  },
  {
   "cell_type": "markdown",
   "id": "5650c4ed",
   "metadata": {},
   "source": [
    "# adding the output layer"
   ]
  },
  {
   "cell_type": "code",
   "execution_count": 15,
   "id": "c4a61ac4",
   "metadata": {},
   "outputs": [],
   "source": [
    "ann.add(Dense(units=1,activation='relu'))"
   ]
  },
  {
   "cell_type": "markdown",
   "id": "7759dc1d",
   "metadata": {},
   "source": [
    "# training the ANN"
   ]
  },
  {
   "cell_type": "code",
   "execution_count": 16,
   "id": "f689423d",
   "metadata": {},
   "outputs": [],
   "source": [
    "ann.compile(optimizer='adam',loss='mean_squared_error')"
   ]
  },
  {
   "cell_type": "code",
   "execution_count": 18,
   "id": "5b1d7f14",
   "metadata": {},
   "outputs": [
    {
     "name": "stdout",
     "output_type": "stream",
     "text": [
      "Epoch 1/100\n",
      "240/240 [==============================] - 1s 2ms/step - loss: 206682.1562\n",
      "Epoch 2/100\n",
      "240/240 [==============================] - 0s 1ms/step - loss: 206682.2500\n",
      "Epoch 3/100\n",
      "240/240 [==============================] - 0s 1ms/step - loss: 206682.2188\n",
      "Epoch 4/100\n",
      "240/240 [==============================] - 0s 1ms/step - loss: 206682.1562\n",
      "Epoch 5/100\n",
      "240/240 [==============================] - 0s 1ms/step - loss: 206682.3281\n",
      "Epoch 6/100\n",
      "240/240 [==============================] - 0s 1ms/step - loss: 206682.3438\n",
      "Epoch 7/100\n",
      "240/240 [==============================] - 0s 1ms/step - loss: 206682.2344\n",
      "Epoch 8/100\n",
      "240/240 [==============================] - 0s 1ms/step - loss: 206682.3125\n",
      "Epoch 9/100\n",
      "240/240 [==============================] - 0s 1ms/step - loss: 206682.3125\n",
      "Epoch 10/100\n",
      "240/240 [==============================] - 0s 1ms/step - loss: 206682.2812\n",
      "Epoch 11/100\n",
      "240/240 [==============================] - 0s 1ms/step - loss: 206682.2656\n",
      "Epoch 12/100\n",
      "240/240 [==============================] - 0s 1ms/step - loss: 206682.2188\n",
      "Epoch 13/100\n",
      "240/240 [==============================] - 0s 1ms/step - loss: 206682.3281\n",
      "Epoch 14/100\n",
      "240/240 [==============================] - 0s 1ms/step - loss: 206682.2500\n",
      "Epoch 15/100\n",
      "240/240 [==============================] - 0s 1ms/step - loss: 206682.2812\n",
      "Epoch 16/100\n",
      "240/240 [==============================] - 0s 1ms/step - loss: 206682.1719\n",
      "Epoch 17/100\n",
      "240/240 [==============================] - 0s 2ms/step - loss: 206682.3125\n",
      "Epoch 18/100\n",
      "240/240 [==============================] - 0s 1ms/step - loss: 206682.3125\n",
      "Epoch 19/100\n",
      "240/240 [==============================] - 0s 1ms/step - loss: 206682.2344\n",
      "Epoch 20/100\n",
      "240/240 [==============================] - 0s 2ms/step - loss: 206682.2500\n",
      "Epoch 21/100\n",
      "240/240 [==============================] - 0s 1ms/step - loss: 206682.2188\n",
      "Epoch 22/100\n",
      "240/240 [==============================] - 0s 1ms/step - loss: 206682.2500\n",
      "Epoch 23/100\n",
      "240/240 [==============================] - 0s 1ms/step - loss: 206682.2344\n",
      "Epoch 24/100\n",
      "240/240 [==============================] - 0s 1ms/step - loss: 206682.3594\n",
      "Epoch 25/100\n",
      "240/240 [==============================] - 0s 1ms/step - loss: 206682.2344\n",
      "Epoch 26/100\n",
      "240/240 [==============================] - 0s 2ms/step - loss: 206682.2812\n",
      "Epoch 27/100\n",
      "240/240 [==============================] - 0s 1ms/step - loss: 206682.3906\n",
      "Epoch 28/100\n",
      "240/240 [==============================] - 0s 1ms/step - loss: 206682.2031\n",
      "Epoch 29/100\n",
      "240/240 [==============================] - 0s 1ms/step - loss: 206682.3125\n",
      "Epoch 30/100\n",
      "240/240 [==============================] - 0s 1ms/step - loss: 206682.3281\n",
      "Epoch 31/100\n",
      "240/240 [==============================] - 0s 1ms/step - loss: 206682.2344\n",
      "Epoch 32/100\n",
      "240/240 [==============================] - 0s 1ms/step - loss: 206682.2812\n",
      "Epoch 33/100\n",
      "240/240 [==============================] - 0s 1ms/step - loss: 206682.2812\n",
      "Epoch 34/100\n",
      "240/240 [==============================] - 0s 1ms/step - loss: 206682.2500\n",
      "Epoch 35/100\n",
      "240/240 [==============================] - 0s 1ms/step - loss: 206682.2031\n",
      "Epoch 36/100\n",
      "240/240 [==============================] - 0s 1ms/step - loss: 206682.2188\n",
      "Epoch 37/100\n",
      "240/240 [==============================] - 0s 1ms/step - loss: 206682.2656\n",
      "Epoch 38/100\n",
      "240/240 [==============================] - 0s 1ms/step - loss: 206682.2188\n",
      "Epoch 39/100\n",
      "240/240 [==============================] - 0s 1ms/step - loss: 206682.3594\n",
      "Epoch 40/100\n",
      "240/240 [==============================] - 0s 1ms/step - loss: 206682.3594\n",
      "Epoch 41/100\n",
      "240/240 [==============================] - 0s 1ms/step - loss: 206682.3906\n",
      "Epoch 42/100\n",
      "240/240 [==============================] - 0s 1ms/step - loss: 206682.3750\n",
      "Epoch 43/100\n",
      "240/240 [==============================] - 0s 1ms/step - loss: 206682.2031\n",
      "Epoch 44/100\n",
      "240/240 [==============================] - 0s 1ms/step - loss: 206682.2344\n",
      "Epoch 45/100\n",
      "240/240 [==============================] - 0s 1ms/step - loss: 206682.2812\n",
      "Epoch 46/100\n",
      "240/240 [==============================] - 0s 1ms/step - loss: 206682.2344\n",
      "Epoch 47/100\n",
      "240/240 [==============================] - 0s 1ms/step - loss: 206682.2344\n",
      "Epoch 48/100\n",
      "240/240 [==============================] - 0s 1ms/step - loss: 206682.3125\n",
      "Epoch 49/100\n",
      "240/240 [==============================] - 0s 1ms/step - loss: 206682.2188\n",
      "Epoch 50/100\n",
      "240/240 [==============================] - 0s 1ms/step - loss: 206682.3438\n",
      "Epoch 51/100\n",
      "240/240 [==============================] - 0s 1ms/step - loss: 206682.2656\n",
      "Epoch 52/100\n",
      "240/240 [==============================] - 0s 2ms/step - loss: 206682.2500\n",
      "Epoch 53/100\n",
      "240/240 [==============================] - 0s 1ms/step - loss: 206682.2031\n",
      "Epoch 54/100\n",
      "240/240 [==============================] - 0s 1ms/step - loss: 206682.2812\n",
      "Epoch 55/100\n",
      "240/240 [==============================] - 0s 1ms/step - loss: 206682.2188\n",
      "Epoch 56/100\n",
      "240/240 [==============================] - 0s 1ms/step - loss: 206682.1875\n",
      "Epoch 57/100\n",
      "240/240 [==============================] - 0s 1ms/step - loss: 206682.2656\n",
      "Epoch 58/100\n",
      "240/240 [==============================] - 0s 1ms/step - loss: 206682.2031\n",
      "Epoch 59/100\n",
      "240/240 [==============================] - 0s 1ms/step - loss: 206682.2500\n",
      "Epoch 60/100\n",
      "240/240 [==============================] - 0s 1ms/step - loss: 206682.3281\n",
      "Epoch 61/100\n",
      "240/240 [==============================] - 1s 3ms/step - loss: 206682.2812\n",
      "Epoch 62/100\n",
      "240/240 [==============================] - 0s 2ms/step - loss: 206682.2031\n",
      "Epoch 63/100\n",
      "240/240 [==============================] - 0s 1ms/step - loss: 206682.2344\n",
      "Epoch 64/100\n",
      "240/240 [==============================] - 0s 1ms/step - loss: 206682.2031\n",
      "Epoch 65/100\n",
      "240/240 [==============================] - 0s 1ms/step - loss: 206682.3594\n",
      "Epoch 66/100\n",
      "240/240 [==============================] - 0s 1ms/step - loss: 206682.3125\n",
      "Epoch 67/100\n",
      "240/240 [==============================] - 0s 1ms/step - loss: 206682.2344\n",
      "Epoch 68/100\n",
      "240/240 [==============================] - 0s 1ms/step - loss: 206682.3438\n",
      "Epoch 69/100\n",
      "240/240 [==============================] - 0s 1ms/step - loss: 206682.3281\n",
      "Epoch 70/100\n",
      "240/240 [==============================] - 0s 1ms/step - loss: 206682.2188\n",
      "Epoch 71/100\n",
      "240/240 [==============================] - 0s 1ms/step - loss: 206682.2188\n",
      "Epoch 72/100\n",
      "240/240 [==============================] - 0s 1ms/step - loss: 206682.3125\n",
      "Epoch 73/100\n",
      "240/240 [==============================] - 0s 1ms/step - loss: 206682.2344\n",
      "Epoch 74/100\n",
      "240/240 [==============================] - 0s 1ms/step - loss: 206682.2031\n",
      "Epoch 75/100\n",
      "240/240 [==============================] - 0s 1ms/step - loss: 206682.2656\n",
      "Epoch 76/100\n",
      "240/240 [==============================] - 0s 1ms/step - loss: 206682.3125\n",
      "Epoch 77/100\n",
      "240/240 [==============================] - 0s 1ms/step - loss: 206682.3125\n",
      "Epoch 78/100\n",
      "240/240 [==============================] - 0s 1ms/step - loss: 206682.2656\n",
      "Epoch 79/100\n",
      "240/240 [==============================] - 0s 1ms/step - loss: 206682.3125\n",
      "Epoch 80/100\n",
      "240/240 [==============================] - 0s 1ms/step - loss: 206682.2656\n",
      "Epoch 81/100\n",
      "240/240 [==============================] - 0s 1ms/step - loss: 206682.2500\n",
      "Epoch 82/100\n",
      "240/240 [==============================] - 0s 1ms/step - loss: 206682.3125\n",
      "Epoch 83/100\n",
      "240/240 [==============================] - 0s 1ms/step - loss: 206682.2500\n",
      "Epoch 84/100\n",
      "240/240 [==============================] - 0s 1ms/step - loss: 206682.2656\n",
      "Epoch 85/100\n",
      "240/240 [==============================] - 0s 1ms/step - loss: 206682.2344\n",
      "Epoch 86/100\n",
      "240/240 [==============================] - 0s 1ms/step - loss: 206682.2656\n",
      "Epoch 87/100\n",
      "240/240 [==============================] - 0s 1ms/step - loss: 206682.2656\n",
      "Epoch 88/100\n",
      "240/240 [==============================] - 0s 1ms/step - loss: 206682.3594\n",
      "Epoch 89/100\n",
      "240/240 [==============================] - 0s 1ms/step - loss: 206682.1719\n",
      "Epoch 90/100\n",
      "240/240 [==============================] - 0s 1ms/step - loss: 206682.2188\n",
      "Epoch 91/100\n",
      "240/240 [==============================] - 0s 1ms/step - loss: 206682.2188\n",
      "Epoch 92/100\n",
      "240/240 [==============================] - 0s 1ms/step - loss: 206682.2812\n",
      "Epoch 93/100\n",
      "240/240 [==============================] - 0s 1ms/step - loss: 206682.2031\n",
      "Epoch 94/100\n",
      "240/240 [==============================] - 0s 1ms/step - loss: 206682.3125\n",
      "Epoch 95/100\n",
      "240/240 [==============================] - 0s 1ms/step - loss: 206682.3125\n",
      "Epoch 96/100\n",
      "240/240 [==============================] - 0s 1ms/step - loss: 206682.2344\n",
      "Epoch 97/100\n",
      "240/240 [==============================] - 0s 1ms/step - loss: 206682.2500\n",
      "Epoch 98/100\n",
      "240/240 [==============================] - 0s 1ms/step - loss: 206682.2500\n",
      "Epoch 99/100\n",
      "240/240 [==============================] - 0s 1ms/step - loss: 206682.2188\n",
      "Epoch 100/100\n",
      "240/240 [==============================] - 0s 1ms/step - loss: 206682.2812\n"
     ]
    },
    {
     "data": {
      "text/plain": [
       "<keras.callbacks.History at 0x21220e027f0>"
      ]
     },
     "execution_count": 18,
     "metadata": {},
     "output_type": "execute_result"
    }
   ],
   "source": [
    "ann.fit(x_train,y_train,batch_size=32,epochs=100)"
   ]
  },
  {
   "cell_type": "code",
   "execution_count": null,
   "id": "2f65bebe",
   "metadata": {},
   "outputs": [],
   "source": []
  }
 ],
 "metadata": {
  "kernelspec": {
   "display_name": "Python 3 (ipykernel)",
   "language": "python",
   "name": "python3"
  },
  "language_info": {
   "codemirror_mode": {
    "name": "ipython",
    "version": 3
   },
   "file_extension": ".py",
   "mimetype": "text/x-python",
   "name": "python",
   "nbconvert_exporter": "python",
   "pygments_lexer": "ipython3",
   "version": "3.9.13"
  }
 },
 "nbformat": 4,
 "nbformat_minor": 5
}
