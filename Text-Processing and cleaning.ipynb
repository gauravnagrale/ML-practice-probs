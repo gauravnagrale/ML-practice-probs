{
 "cells": [
  {
   "cell_type": "code",
   "execution_count": 1,
   "id": "3c49dd2b",
   "metadata": {},
   "outputs": [],
   "source": [
    "import nltk"
   ]
  },
  {
   "cell_type": "code",
   "execution_count": 2,
   "id": "b9c0da38",
   "metadata": {},
   "outputs": [
    {
     "name": "stdout",
     "output_type": "stream",
     "text": [
      "showing info https://raw.githubusercontent.com/nltk/nltk_data/gh-pages/index.xml\n"
     ]
    },
    {
     "data": {
      "text/plain": [
       "True"
      ]
     },
     "execution_count": 2,
     "metadata": {},
     "output_type": "execute_result"
    }
   ],
   "source": [
    "nltk.download()"
   ]
  },
  {
   "cell_type": "code",
   "execution_count": 2,
   "id": "1fcd5d02",
   "metadata": {},
   "outputs": [
    {
     "data": {
      "text/plain": [
       "'He is a good boy. She is a good girl. Boy and Girl is good'"
      ]
     },
     "execution_count": 2,
     "metadata": {},
     "output_type": "execute_result"
    }
   ],
   "source": [
    "paragraph='He is a good boy. She is a good girl. Boy and Girl is good'\n",
    "paragraph"
   ]
  },
  {
   "cell_type": "markdown",
   "id": "ddacccc5",
   "metadata": {},
   "source": [
    "# Tokenization"
   ]
  },
  {
   "cell_type": "code",
   "execution_count": 3,
   "id": "35267b9e",
   "metadata": {},
   "outputs": [],
   "source": [
    "#Sentence tokenization\n",
    "# if we want to the words from the sentences we use word_tokenizer,it depends on how we are going to use it "
   ]
  },
  {
   "cell_type": "code",
   "execution_count": 4,
   "id": "3c70a195",
   "metadata": {},
   "outputs": [
    {
     "data": {
      "text/plain": [
       "['He is a good boy.', 'She is a good girl.', 'Boy and Girl is good']"
      ]
     },
     "execution_count": 4,
     "metadata": {},
     "output_type": "execute_result"
    }
   ],
   "source": [
    "sentence=nltk.sent_tokenize(paragraph)\n",
    "sentence"
   ]
  },
  {
   "cell_type": "markdown",
   "id": "63e51136",
   "metadata": {},
   "source": [
    "# word Tokenizer"
   ]
  },
  {
   "cell_type": "code",
   "execution_count": 5,
   "id": "18fffe95",
   "metadata": {},
   "outputs": [
    {
     "data": {
      "text/plain": [
       "['He',\n",
       " 'is',\n",
       " 'a',\n",
       " 'good',\n",
       " 'boy',\n",
       " '.',\n",
       " 'She',\n",
       " 'is',\n",
       " 'a',\n",
       " 'good',\n",
       " 'girl',\n",
       " '.',\n",
       " 'Boy',\n",
       " 'and',\n",
       " 'Girl',\n",
       " 'is',\n",
       " 'good']"
      ]
     },
     "execution_count": 5,
     "metadata": {},
     "output_type": "execute_result"
    }
   ],
   "source": [
    "words=nltk.word_tokenize(paragraph)\n",
    "words"
   ]
  },
  {
   "cell_type": "markdown",
   "id": "1409f263",
   "metadata": {},
   "source": [
    "# Test cleaning"
   ]
  },
  {
   "cell_type": "code",
   "execution_count": 6,
   "id": "91781b6c",
   "metadata": {},
   "outputs": [],
   "source": [
    "#removing the punctuation symbols"
   ]
  },
  {
   "cell_type": "code",
   "execution_count": 7,
   "id": "a9159235",
   "metadata": {},
   "outputs": [
    {
     "name": "stdout",
     "output_type": "stream",
     "text": [
      "['He is a good boy ', 'She is a good girl ', 'Boy and Girl is good']\n"
     ]
    }
   ],
   "source": [
    "import re\n",
    "# re --->regular Expression\n",
    "corpus=[]\n",
    "for i in range(len(sentence)):\n",
    "    #sub-->removing the words \n",
    "    # and in our case we are removing the everything except the letters a-z and A-Z and if we want to keep the numbers we have\n",
    "    # write [^a-bA-Z0-9]\n",
    "    rp=re.sub('[^a-zA-Z]',' ',sentence[i])\n",
    "    corpus.append(rp)\n",
    "print(corpus)"
   ]
  },
  {
   "cell_type": "code",
   "execution_count": 8,
   "id": "62dc1ad3",
   "metadata": {
    "scrolled": true
   },
   "outputs": [
    {
     "data": {
      "text/plain": [
       "['i',\n",
       " 'me',\n",
       " 'my',\n",
       " 'myself',\n",
       " 'we',\n",
       " 'our',\n",
       " 'ours',\n",
       " 'ourselves',\n",
       " 'you',\n",
       " \"you're\",\n",
       " \"you've\",\n",
       " \"you'll\",\n",
       " \"you'd\",\n",
       " 'your',\n",
       " 'yours',\n",
       " 'yourself',\n",
       " 'yourselves',\n",
       " 'he',\n",
       " 'him',\n",
       " 'his',\n",
       " 'himself',\n",
       " 'she',\n",
       " \"she's\",\n",
       " 'her',\n",
       " 'hers',\n",
       " 'herself',\n",
       " 'it',\n",
       " \"it's\",\n",
       " 'its',\n",
       " 'itself',\n",
       " 'they',\n",
       " 'them',\n",
       " 'their',\n",
       " 'theirs',\n",
       " 'themselves',\n",
       " 'what',\n",
       " 'which',\n",
       " 'who',\n",
       " 'whom',\n",
       " 'this',\n",
       " 'that',\n",
       " \"that'll\",\n",
       " 'these',\n",
       " 'those',\n",
       " 'am',\n",
       " 'is',\n",
       " 'are',\n",
       " 'was',\n",
       " 'were',\n",
       " 'be',\n",
       " 'been',\n",
       " 'being',\n",
       " 'have',\n",
       " 'has',\n",
       " 'had',\n",
       " 'having',\n",
       " 'do',\n",
       " 'does',\n",
       " 'did',\n",
       " 'doing',\n",
       " 'a',\n",
       " 'an',\n",
       " 'the',\n",
       " 'and',\n",
       " 'but',\n",
       " 'if',\n",
       " 'or',\n",
       " 'because',\n",
       " 'as',\n",
       " 'until',\n",
       " 'while',\n",
       " 'of',\n",
       " 'at',\n",
       " 'by',\n",
       " 'for',\n",
       " 'with',\n",
       " 'about',\n",
       " 'against',\n",
       " 'between',\n",
       " 'into',\n",
       " 'through',\n",
       " 'during',\n",
       " 'before',\n",
       " 'after',\n",
       " 'above',\n",
       " 'below',\n",
       " 'to',\n",
       " 'from',\n",
       " 'up',\n",
       " 'down',\n",
       " 'in',\n",
       " 'out',\n",
       " 'on',\n",
       " 'off',\n",
       " 'over',\n",
       " 'under',\n",
       " 'again',\n",
       " 'further',\n",
       " 'then',\n",
       " 'once',\n",
       " 'here',\n",
       " 'there',\n",
       " 'when',\n",
       " 'where',\n",
       " 'why',\n",
       " 'how',\n",
       " 'all',\n",
       " 'any',\n",
       " 'both',\n",
       " 'each',\n",
       " 'few',\n",
       " 'more',\n",
       " 'most',\n",
       " 'other',\n",
       " 'some',\n",
       " 'such',\n",
       " 'no',\n",
       " 'nor',\n",
       " 'not',\n",
       " 'only',\n",
       " 'own',\n",
       " 'same',\n",
       " 'so',\n",
       " 'than',\n",
       " 'too',\n",
       " 'very',\n",
       " 's',\n",
       " 't',\n",
       " 'can',\n",
       " 'will',\n",
       " 'just',\n",
       " 'don',\n",
       " \"don't\",\n",
       " 'should',\n",
       " \"should've\",\n",
       " 'now',\n",
       " 'd',\n",
       " 'll',\n",
       " 'm',\n",
       " 'o',\n",
       " 're',\n",
       " 've',\n",
       " 'y',\n",
       " 'ain',\n",
       " 'aren',\n",
       " \"aren't\",\n",
       " 'couldn',\n",
       " \"couldn't\",\n",
       " 'didn',\n",
       " \"didn't\",\n",
       " 'doesn',\n",
       " \"doesn't\",\n",
       " 'hadn',\n",
       " \"hadn't\",\n",
       " 'hasn',\n",
       " \"hasn't\",\n",
       " 'haven',\n",
       " \"haven't\",\n",
       " 'isn',\n",
       " \"isn't\",\n",
       " 'ma',\n",
       " 'mightn',\n",
       " \"mightn't\",\n",
       " 'mustn',\n",
       " \"mustn't\",\n",
       " 'needn',\n",
       " \"needn't\",\n",
       " 'shan',\n",
       " \"shan't\",\n",
       " 'shouldn',\n",
       " \"shouldn't\",\n",
       " 'wasn',\n",
       " \"wasn't\",\n",
       " 'weren',\n",
       " \"weren't\",\n",
       " 'won',\n",
       " \"won't\",\n",
       " 'wouldn',\n",
       " \"wouldn't\"]"
      ]
     },
     "execution_count": 8,
     "metadata": {},
     "output_type": "execute_result"
    }
   ],
   "source": [
    "#removing the stop words\n",
    "from nltk.corpus import stopwords\n",
    "stopwords.words('english')"
   ]
  },
  {
   "cell_type": "code",
   "execution_count": 9,
   "id": "32be8f3b",
   "metadata": {},
   "outputs": [
    {
     "name": "stdout",
     "output_type": "stream",
     "text": [
      "['good boy', 'good girl', 'boy girl good']\n"
     ]
    }
   ],
   "source": [
    "#removing the Stop-words\n",
    "corpus=[]\n",
    "for i in range(len(sentence)):\n",
    "    #sub-->removing the words \n",
    "    # and in our case we are removing the everything except the letters a-z and A-Z and if we want to keep the numbers we have\n",
    "    # write [^a-bA-Z0-9]\n",
    "    rp=re.sub('[^a-zA-Z]',\" \",sentence[i])\n",
    "    # we are converting everyting into the lower case bcoz the stop words that we have in our library are small\n",
    "    rp=rp.lower()\n",
    "    rp=rp.split()\n",
    "    #here it is checking if the words that we have in (rp) is in the present in our library of stop words if not then are \n",
    "    #gong to store it into the rp again\n",
    "    rp=[words for words in rp if not words in stopwords.words('english')]\n",
    "    rp=' '.join(rp)\n",
    "    corpus.append(rp)\n",
    "print(corpus)"
   ]
  },
  {
   "cell_type": "markdown",
   "id": "0002e502",
   "metadata": {},
   "source": [
    "# Stemming and Lemmatization"
   ]
  },
  {
   "cell_type": "code",
   "execution_count": 10,
   "id": "b26fa217",
   "metadata": {},
   "outputs": [
    {
     "data": {
      "text/plain": [
       "'boy'"
      ]
     },
     "execution_count": 10,
     "metadata": {},
     "output_type": "execute_result"
    }
   ],
   "source": [
    "from nltk.stem import PorterStemmer\n",
    "ps=PorterStemmer()\n",
    "ps.stem('boy')"
   ]
  },
  {
   "cell_type": "markdown",
   "id": "34387794",
   "metadata": {},
   "source": [
    "# Lammetization"
   ]
  },
  {
   "cell_type": "code",
   "execution_count": 11,
   "id": "e426cd3d",
   "metadata": {},
   "outputs": [
    {
     "data": {
      "text/plain": [
       "'historically'"
      ]
     },
     "execution_count": 11,
     "metadata": {},
     "output_type": "execute_result"
    }
   ],
   "source": [
    "from nltk.stem import WordNetLemmatizer\n",
    "wnl=WordNetLemmatizer()\n",
    "wnl.lemmatize('historically')"
   ]
  },
  {
   "cell_type": "markdown",
   "id": "9ce8e68a",
   "metadata": {},
   "source": [
    "# Every-thing At once"
   ]
  },
  {
   "cell_type": "code",
   "execution_count": 12,
   "id": "b56e34f7",
   "metadata": {},
   "outputs": [
    {
     "name": "stdout",
     "output_type": "stream",
     "text": [
      "['good boy', 'good girl', 'boy girl good']\n"
     ]
    }
   ],
   "source": [
    "corpus=[]\n",
    "for i in range(len(sentence)):\n",
    "    #sub-->removing the words \n",
    "    # and in our case we are removing the everything except the letters a-z and A-Z and if we want to keep the numbers we have\n",
    "    # write [^a-bA-Z0-9]\n",
    "    rp=re.sub('[^a-zA-Z]',\" \",sentence[i])\n",
    "    # we are converting everyting into the lower case bcoz the stop words that we have in our library are small\n",
    "    rp=rp.lower()\n",
    "    rp=rp.split()\n",
    "    #here it is checking if the words that we have in (rp) is in the present in our library of stop words if not then are \n",
    "    #gong to store it into the rp again\n",
    "    rp=[ps.stem(words) for words in rp if not words in stopwords.words('english')]\n",
    "    rp=' '.join(rp)\n",
    "    corpus.append(rp)\n",
    "print(corpus)"
   ]
  },
  {
   "cell_type": "markdown",
   "id": "6fb56750",
   "metadata": {},
   "source": [
    "# Vectorization"
   ]
  },
  {
   "cell_type": "code",
   "execution_count": 13,
   "id": "add38a52",
   "metadata": {},
   "outputs": [
    {
     "data": {
      "text/plain": [
       "array([[1, 0, 1],\n",
       "       [0, 1, 1],\n",
       "       [1, 1, 1]], dtype=int64)"
      ]
     },
     "execution_count": 13,
     "metadata": {},
     "output_type": "execute_result"
    }
   ],
   "source": [
    "from sklearn.feature_extraction.text import CountVectorizer\n",
    "cv=CountVectorizer()\n",
    "bow=cv.fit_transform(corpus).toarray()\n",
    "bow"
   ]
  },
  {
   "cell_type": "markdown",
   "id": "ea5178e1",
   "metadata": {},
   "source": [
    "# parts of speach tagging"
   ]
  },
  {
   "cell_type": "code",
   "execution_count": 17,
   "id": "6fdbc1c3",
   "metadata": {},
   "outputs": [],
   "source": [
    "#When we will be working on the grammer at that time we will be using this library"
   ]
  },
  {
   "cell_type": "code",
   "execution_count": 18,
   "id": "69869319",
   "metadata": {},
   "outputs": [
    {
     "data": {
      "text/plain": [
       "[('i', 'NN'),\n",
       " ('love', 'VBP'),\n",
       " ('natural', 'JJ'),\n",
       " ('language', 'NN'),\n",
       " ('processing', 'NN')]"
      ]
     },
     "execution_count": 18,
     "metadata": {},
     "output_type": "execute_result"
    }
   ],
   "source": [
    "text='i love natural language processing'\n",
    "word=nltk.word_tokenize(text)\n",
    "nltk.pos_tag(word)"
   ]
  },
  {
   "cell_type": "code",
   "execution_count": 20,
   "id": "24d68959",
   "metadata": {},
   "outputs": [
    {
     "name": "stdout",
     "output_type": "stream",
     "text": [
      "NN: noun, common, singular or mass\n",
      "    common-carrier cabbage knuckle-duster Casino afghan shed thermostat\n",
      "    investment slide humour falloff slick wind hyena override subhumanity\n",
      "    machinist ...\n",
      "VBP: verb, present tense, not 3rd person singular\n",
      "    predominate wrap resort sue twist spill cure lengthen brush terminate\n",
      "    appear tend stray glisten obtain comprise detest tease attract\n",
      "    emphasize mold postpone sever return wag ...\n"
     ]
    }
   ],
   "source": [
    "nltk.help.upenn_tagset('NN')\n",
    "nltk.help.upenn_tagset('VBP')"
   ]
  },
  {
   "cell_type": "code",
   "execution_count": null,
   "id": "56d0eb01",
   "metadata": {},
   "outputs": [],
   "source": []
  }
 ],
 "metadata": {
  "kernelspec": {
   "display_name": "Python 3 (ipykernel)",
   "language": "python",
   "name": "python3"
  },
  "language_info": {
   "codemirror_mode": {
    "name": "ipython",
    "version": 3
   },
   "file_extension": ".py",
   "mimetype": "text/x-python",
   "name": "python",
   "nbconvert_exporter": "python",
   "pygments_lexer": "ipython3",
   "version": "3.9.13"
  }
 },
 "nbformat": 4,
 "nbformat_minor": 5
}
