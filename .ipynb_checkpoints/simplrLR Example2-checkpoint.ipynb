{
 "cells": [
  {
   "cell_type": "code",
   "execution_count": 5,
   "id": "2d9e9e5b",
   "metadata": {},
   "outputs": [],
   "source": [
    "import numpy as np\n",
    "import pandas as pd\n",
    "import matplotlib.pyplot as plt\n",
    "import seaborn as sns\n",
    "from sklearn.model_selection import train_test_split\n",
    "from sklearn.metrics import r2_score,mean_squared_error"
   ]
  },
  {
   "cell_type": "code",
   "execution_count": 8,
   "id": "2b7c958a",
   "metadata": {},
   "outputs": [
    {
     "data": {
      "text/html": [
       "<div>\n",
       "<style scoped>\n",
       "    .dataframe tbody tr th:only-of-type {\n",
       "        vertical-align: middle;\n",
       "    }\n",
       "\n",
       "    .dataframe tbody tr th {\n",
       "        vertical-align: top;\n",
       "    }\n",
       "\n",
       "    .dataframe thead th {\n",
       "        text-align: right;\n",
       "    }\n",
       "</style>\n",
       "<table border=\"1\" class=\"dataframe\">\n",
       "  <thead>\n",
       "    <tr style=\"text-align: right;\">\n",
       "      <th></th>\n",
       "      <th>TV</th>\n",
       "      <th>radio</th>\n",
       "      <th>newspaper</th>\n",
       "      <th>sales</th>\n",
       "    </tr>\n",
       "  </thead>\n",
       "  <tbody>\n",
       "    <tr>\n",
       "      <th>0</th>\n",
       "      <td>230100</td>\n",
       "      <td>37800</td>\n",
       "      <td>69200</td>\n",
       "      <td>22100</td>\n",
       "    </tr>\n",
       "    <tr>\n",
       "      <th>1</th>\n",
       "      <td>44500</td>\n",
       "      <td>39300</td>\n",
       "      <td>45100</td>\n",
       "      <td>10400</td>\n",
       "    </tr>\n",
       "    <tr>\n",
       "      <th>2</th>\n",
       "      <td>17200</td>\n",
       "      <td>45900</td>\n",
       "      <td>69300</td>\n",
       "      <td>9300</td>\n",
       "    </tr>\n",
       "    <tr>\n",
       "      <th>3</th>\n",
       "      <td>151500</td>\n",
       "      <td>41300</td>\n",
       "      <td>58500</td>\n",
       "      <td>18500</td>\n",
       "    </tr>\n",
       "    <tr>\n",
       "      <th>4</th>\n",
       "      <td>180800</td>\n",
       "      <td>10800</td>\n",
       "      <td>58400</td>\n",
       "      <td>12900</td>\n",
       "    </tr>\n",
       "  </tbody>\n",
       "</table>\n",
       "</div>"
      ],
      "text/plain": [
       "       TV  radio  newspaper  sales\n",
       "0  230100  37800      69200  22100\n",
       "1   44500  39300      45100  10400\n",
       "2   17200  45900      69300   9300\n",
       "3  151500  41300      58500  18500\n",
       "4  180800  10800      58400  12900"
      ]
     },
     "execution_count": 8,
     "metadata": {},
     "output_type": "execute_result"
    }
   ],
   "source": [
    "df2=pd.read_csv('C:\\\\Users\\\\Gaura\\\\OneDrive\\\\Desktop\\\\dataset\\\\Advertising.csv')\n",
    "df2.head()"
   ]
  },
  {
   "cell_type": "code",
   "execution_count": 3,
   "id": "0ceddf5f",
   "metadata": {},
   "outputs": [
    {
     "name": "stdout",
     "output_type": "stream",
     "text": [
      "<class 'pandas.core.frame.DataFrame'>\n",
      "RangeIndex: 200 entries, 0 to 199\n",
      "Data columns (total 4 columns):\n",
      " #   Column     Non-Null Count  Dtype\n",
      "---  ------     --------------  -----\n",
      " 0   TV         200 non-null    int64\n",
      " 1   radio      200 non-null    int64\n",
      " 2   newspaper  200 non-null    int64\n",
      " 3   sales      200 non-null    int64\n",
      "dtypes: int64(4)\n",
      "memory usage: 6.4 KB\n"
     ]
    }
   ],
   "source": [
    "df2.info()"
   ]
  },
  {
   "cell_type": "code",
   "execution_count": 4,
   "id": "faa9eb9b",
   "metadata": {},
   "outputs": [
    {
     "data": {
      "text/plain": [
       "TV           0\n",
       "radio        0\n",
       "newspaper    0\n",
       "sales        0\n",
       "dtype: int64"
      ]
     },
     "execution_count": 4,
     "metadata": {},
     "output_type": "execute_result"
    }
   ],
   "source": [
    "df2.isnull().sum()"
   ]
  },
  {
   "cell_type": "code",
   "execution_count": 9,
   "id": "8c1abdba",
   "metadata": {},
   "outputs": [
    {
     "data": {
      "text/plain": [
       "0      337100\n",
       "1      128900\n",
       "2      132400\n",
       "3      251300\n",
       "4      250000\n",
       "        ...  \n",
       "195     55700\n",
       "196    107200\n",
       "197    192700\n",
       "198    391800\n",
       "199    249400\n",
       "Name: Total_spent, Length: 200, dtype: int64"
      ]
     },
     "execution_count": 9,
     "metadata": {},
     "output_type": "execute_result"
    }
   ],
   "source": [
    "df2['Total_spent']=df2['TV']+df2['radio']+df2['newspaper']\n",
    "df2['Total_spent']"
   ]
  },
  {
   "cell_type": "code",
   "execution_count": 10,
   "id": "7f2fa7d1",
   "metadata": {},
   "outputs": [
    {
     "data": {
      "text/html": [
       "<div>\n",
       "<style scoped>\n",
       "    .dataframe tbody tr th:only-of-type {\n",
       "        vertical-align: middle;\n",
       "    }\n",
       "\n",
       "    .dataframe tbody tr th {\n",
       "        vertical-align: top;\n",
       "    }\n",
       "\n",
       "    .dataframe thead th {\n",
       "        text-align: right;\n",
       "    }\n",
       "</style>\n",
       "<table border=\"1\" class=\"dataframe\">\n",
       "  <thead>\n",
       "    <tr style=\"text-align: right;\">\n",
       "      <th></th>\n",
       "      <th>sales</th>\n",
       "      <th>Total_spent</th>\n",
       "    </tr>\n",
       "  </thead>\n",
       "  <tbody>\n",
       "    <tr>\n",
       "      <th>0</th>\n",
       "      <td>22100</td>\n",
       "      <td>337100</td>\n",
       "    </tr>\n",
       "    <tr>\n",
       "      <th>1</th>\n",
       "      <td>10400</td>\n",
       "      <td>128900</td>\n",
       "    </tr>\n",
       "    <tr>\n",
       "      <th>2</th>\n",
       "      <td>9300</td>\n",
       "      <td>132400</td>\n",
       "    </tr>\n",
       "    <tr>\n",
       "      <th>3</th>\n",
       "      <td>18500</td>\n",
       "      <td>251300</td>\n",
       "    </tr>\n",
       "    <tr>\n",
       "      <th>4</th>\n",
       "      <td>12900</td>\n",
       "      <td>250000</td>\n",
       "    </tr>\n",
       "  </tbody>\n",
       "</table>\n",
       "</div>"
      ],
      "text/plain": [
       "   sales  Total_spent\n",
       "0  22100       337100\n",
       "1  10400       128900\n",
       "2   9300       132400\n",
       "3  18500       251300\n",
       "4  12900       250000"
      ]
     },
     "execution_count": 10,
     "metadata": {},
     "output_type": "execute_result"
    }
   ],
   "source": [
    "df2.drop(columns=['TV','radio','newspaper'],inplace=True)\n",
    "df2.head()"
   ]
  },
  {
   "cell_type": "code",
   "execution_count": 11,
   "id": "d1f92a1d",
   "metadata": {},
   "outputs": [
    {
     "data": {
      "text/html": [
       "<div>\n",
       "<style scoped>\n",
       "    .dataframe tbody tr th:only-of-type {\n",
       "        vertical-align: middle;\n",
       "    }\n",
       "\n",
       "    .dataframe tbody tr th {\n",
       "        vertical-align: top;\n",
       "    }\n",
       "\n",
       "    .dataframe thead th {\n",
       "        text-align: right;\n",
       "    }\n",
       "</style>\n",
       "<table border=\"1\" class=\"dataframe\">\n",
       "  <thead>\n",
       "    <tr style=\"text-align: right;\">\n",
       "      <th></th>\n",
       "      <th>sales</th>\n",
       "      <th>Total_spent</th>\n",
       "    </tr>\n",
       "  </thead>\n",
       "  <tbody>\n",
       "    <tr>\n",
       "      <th>count</th>\n",
       "      <td>200.000000</td>\n",
       "      <td>200.000000</td>\n",
       "    </tr>\n",
       "    <tr>\n",
       "      <th>mean</th>\n",
       "      <td>14022.500000</td>\n",
       "      <td>200860.500000</td>\n",
       "    </tr>\n",
       "    <tr>\n",
       "      <th>std</th>\n",
       "      <td>5217.456566</td>\n",
       "      <td>92985.180587</td>\n",
       "    </tr>\n",
       "    <tr>\n",
       "      <th>min</th>\n",
       "      <td>1600.000000</td>\n",
       "      <td>11700.000000</td>\n",
       "    </tr>\n",
       "    <tr>\n",
       "      <th>25%</th>\n",
       "      <td>10375.000000</td>\n",
       "      <td>123550.000000</td>\n",
       "    </tr>\n",
       "    <tr>\n",
       "      <th>50%</th>\n",
       "      <td>12900.000000</td>\n",
       "      <td>207350.000000</td>\n",
       "    </tr>\n",
       "    <tr>\n",
       "      <th>75%</th>\n",
       "      <td>17400.000000</td>\n",
       "      <td>281125.000000</td>\n",
       "    </tr>\n",
       "    <tr>\n",
       "      <th>max</th>\n",
       "      <td>27000.000000</td>\n",
       "      <td>433600.000000</td>\n",
       "    </tr>\n",
       "  </tbody>\n",
       "</table>\n",
       "</div>"
      ],
      "text/plain": [
       "              sales    Total_spent\n",
       "count    200.000000     200.000000\n",
       "mean   14022.500000  200860.500000\n",
       "std     5217.456566   92985.180587\n",
       "min     1600.000000   11700.000000\n",
       "25%    10375.000000  123550.000000\n",
       "50%    12900.000000  207350.000000\n",
       "75%    17400.000000  281125.000000\n",
       "max    27000.000000  433600.000000"
      ]
     },
     "execution_count": 11,
     "metadata": {},
     "output_type": "execute_result"
    }
   ],
   "source": [
    "df2.describe()"
   ]
  },
  {
   "cell_type": "code",
   "execution_count": 11,
   "id": "bc13e82e",
   "metadata": {},
   "outputs": [
    {
     "data": {
      "image/png": "[encoded data removed]",
      "text/plain": [
       "<Figure size 640x480 with 1 Axes>"
      ]
     },
     "metadata": {},
     "output_type": "display_data"
    }
   ],
   "source": [
    "sns.scatterplot(x='sales',y='Total_sales',data=df2)\n",
    "plt.show()"
   ]
  },
  {
   "cell_type": "markdown",
   "id": "29815481",
   "metadata": {},
   "source": [
    "1.It is in the +ve direction\n",
    "2.it has moderate strength(ie the correlation is not to high not to low)\n",
    "3.and it is linear"
   ]
  },
  {
   "cell_type": "code",
   "execution_count": 13,
   "id": "527b4d7f",
   "metadata": {},
   "outputs": [
    {
     "data": {
      "text/html": [
       "<div>\n",
       "<style scoped>\n",
       "    .dataframe tbody tr th:only-of-type {\n",
       "        vertical-align: middle;\n",
       "    }\n",
       "\n",
       "    .dataframe tbody tr th {\n",
       "        vertical-align: top;\n",
       "    }\n",
       "\n",
       "    .dataframe thead th {\n",
       "        text-align: right;\n",
       "    }\n",
       "</style>\n",
       "<table border=\"1\" class=\"dataframe\">\n",
       "  <thead>\n",
       "    <tr style=\"text-align: right;\">\n",
       "      <th></th>\n",
       "      <th>sales</th>\n",
       "      <th>Total_sales</th>\n",
       "    </tr>\n",
       "  </thead>\n",
       "  <tbody>\n",
       "    <tr>\n",
       "      <th>sales</th>\n",
       "      <td>1.000000</td>\n",
       "      <td>0.867712</td>\n",
       "    </tr>\n",
       "    <tr>\n",
       "      <th>Total_sales</th>\n",
       "      <td>0.867712</td>\n",
       "      <td>1.000000</td>\n",
       "    </tr>\n",
       "  </tbody>\n",
       "</table>\n",
       "</div>"
      ],
      "text/plain": [
       "                sales  Total_sales\n",
       "sales        1.000000     0.867712\n",
       "Total_sales  0.867712     1.000000"
      ]
     },
     "execution_count": 13,
     "metadata": {},
     "output_type": "execute_result"
    }
   ],
   "source": [
    "df2.corr() #as we can see that the data points have high co-relation between them ie they are cloase to each-other"
   ]
  },
  {
   "cell_type": "code",
   "execution_count": 15,
   "id": "8c07ccc4",
   "metadata": {},
   "outputs": [
    {
     "data": {
      "image/png": "[encoded data removed]",
      "text/plain": [
       "<Figure size 500x500 with 1 Axes>"
      ]
     },
     "metadata": {},
     "output_type": "display_data"
    }
   ],
   "source": [
    "sns.displot(x='sales',data=df2)\n",
    "plt.show()"
   ]
  },
  {
   "cell_type": "code",
   "execution_count": 16,
   "id": "0bb403d9",
   "metadata": {},
   "outputs": [
    {
     "data": {
      "text/plain": [
       "0.40757142507671335"
      ]
     },
     "execution_count": 16,
     "metadata": {},
     "output_type": "execute_result"
    }
   ],
   "source": [
    "df2['sales'].skew()"
   ]
  },
  {
   "cell_type": "markdown",
   "id": "2fbd6813",
   "metadata": {},
   "source": [
    "#as we can see that the data is moderately skewed"
   ]
  },
  {
   "cell_type": "code",
   "execution_count": 19,
   "id": "6981f13b",
   "metadata": {},
   "outputs": [
    {
     "data": {
      "image/png": "[encoded data removed]",
      "text/plain": [
       "<Figure size 500x500 with 1 Axes>"
      ]
     },
     "metadata": {},
     "output_type": "display_data"
    }
   ],
   "source": [
    "sns.displot(x='Total_sales',data=df2)\n",
    "plt.show()"
   ]
  },
  {
   "cell_type": "code",
   "execution_count": 18,
   "id": "3b5d1ab8",
   "metadata": {},
   "outputs": [
    {
     "data": {
      "text/plain": [
       "0.04948799338306648"
      ]
     },
     "execution_count": 18,
     "metadata": {},
     "output_type": "execute_result"
    }
   ],
   "source": [
    "df2['Total_sales'].skew()"
   ]
  },
  {
   "cell_type": "code",
   "execution_count": 42,
   "id": "e7d72b92",
   "metadata": {},
   "outputs": [
    {
     "data": {
      "image/png": "[encoded data removed]",
      "text/plain": [
       "<Figure size 640x480 with 1 Axes>"
      ]
     },
     "metadata": {},
     "output_type": "display_data"
    }
   ],
   "source": [
    "plt.boxplot(df2['sales'])\n",
    "plt.show()"
   ]
  },
  {
   "cell_type": "code",
   "execution_count": 43,
   "id": "cf5536e7",
   "metadata": {},
   "outputs": [
    {
     "data": {
      "image/png": "[encoded data removed]",
      "text/plain": [
       "<Figure size 640x480 with 1 Axes>"
      ]
     },
     "metadata": {},
     "output_type": "display_data"
    }
   ],
   "source": [
    "plt.boxplot(df2['Total_spent'])\n",
    "plt.show()"
   ]
  },
  {
   "cell_type": "markdown",
   "id": "4bb88234",
   "metadata": {},
   "source": [
    "#its a normally distributed data"
   ]
  },
  {
   "cell_type": "markdown",
   "id": "36d847a7",
   "metadata": {},
   "source": [
    "# spliting the data"
   ]
  },
  {
   "cell_type": "code",
   "execution_count": 13,
   "id": "fa20db42",
   "metadata": {},
   "outputs": [],
   "source": [
    "x=df2['Total_spent'].values.reshape(-1,1)\n",
    "y=df2['sales'].values.reshape(-1,1)"
   ]
  },
  {
   "cell_type": "code",
   "execution_count": 14,
   "id": "a56c2a1b",
   "metadata": {},
   "outputs": [
    {
     "data": {
      "text/plain": [
       "((140, 1), (60, 1), (140, 1), (60, 1))"
      ]
     },
     "execution_count": 14,
     "metadata": {},
     "output_type": "execute_result"
    }
   ],
   "source": [
    "x_train,x_test,y_train,y_test=train_test_split(x,y,random_state=42,test_size=0.3)\n",
    "x_train.shape,x_test.shape,y_train.shape,y_test.shape"
   ]
  },
  {
   "cell_type": "code",
   "execution_count": 15,
   "id": "cb63375b",
   "metadata": {},
   "outputs": [
    {
     "data": {
      "text/plain": [
       "LinearRegression()"
      ]
     },
     "execution_count": 15,
     "metadata": {},
     "output_type": "execute_result"
    }
   ],
   "source": [
    "from sklearn.linear_model import LinearRegression\n",
    "model1=LinearRegression()\n",
    "model1.fit(x_train,y_train)"
   ]
  },
  {
   "cell_type": "code",
   "execution_count": 16,
   "id": "ce85f41f",
   "metadata": {},
   "outputs": [
    {
     "data": {
      "text/plain": [
       "array([4199.10650087])"
      ]
     },
     "execution_count": 16,
     "metadata": {},
     "output_type": "execute_result"
    }
   ],
   "source": [
    "model1.intercept_"
   ]
  },
  {
   "cell_type": "code",
   "execution_count": 17,
   "id": "0151b6cc",
   "metadata": {},
   "outputs": [
    {
     "data": {
      "text/plain": [
       "array([[0.04895385]])"
      ]
     },
     "execution_count": 17,
     "metadata": {},
     "output_type": "execute_result"
    }
   ],
   "source": [
    "model1.coef_"
   ]
  },
  {
   "cell_type": "markdown",
   "id": "3f766f5b",
   "metadata": {},
   "source": [
    "# prediction means:putting the test value into the equation"
   ]
  },
  {
   "cell_type": "code",
   "execution_count": null,
   "id": "6dd7e25b",
   "metadata": {},
   "outputs": [],
   "source": [
    "\n",
    "y_pred_test=model1.predict(x_test)\n",
    "y_pred_test"
   ]
  },
  {
   "cell_type": "code",
   "execution_count": 50,
   "id": "5b59645a",
   "metadata": {},
   "outputs": [
    {
     "data": {
      "text/plain": [
       "array([[18948.90088879],\n",
       "       [15355.68844912],\n",
       "       [12467.41141995],\n",
       "       [10308.54672527],\n",
       "       [19046.80858469],\n",
       "       [ 7023.7435277 ],\n",
       "       [20016.09477414],\n",
       "       [ 6852.40505986],\n",
       "       [11468.75292173],\n",
       "       [ 7816.79586452],\n",
       "       [ 9760.26362821],\n",
       "       [ 8575.58050777],\n",
       "       [15561.29461052],\n",
       "       [16393.5100257 ],\n",
       "       [16036.14693565],\n",
       "       [15992.08847249],\n",
       "       [13245.77760239],\n",
       "       [15482.96845379],\n",
       "       [17734.84545958],\n",
       "       [19027.22704551],\n",
       "       [10680.59596971],\n",
       "       [12188.37448663],\n",
       "       [10822.56212877],\n",
       "       [15850.12231343],\n",
       "       [ 8717.54666683],\n",
       "       [17774.00853794],\n",
       "       [12560.42373106],\n",
       "       [19653.8362993 ],\n",
       "       [ 8428.71896392],\n",
       "       [21758.85176123],\n",
       "       [ 8051.77433469],\n",
       "       [19115.34397183],\n",
       "       [25425.49497283],\n",
       "       [18195.01163033],\n",
       "       [16080.20539881],\n",
       "       [13563.97761408],\n",
       "       [13240.88221759],\n",
       "       [ 9770.0543978 ],\n",
       "       [17891.49777303],\n",
       "       [14689.91611697],\n",
       "       [16437.56848886],\n",
       "       [10499.46673228],\n",
       "       [18474.04856366],\n",
       "       [11600.9283112 ],\n",
       "       [18288.02394144],\n",
       "       [11537.28830887],\n",
       "       [ 8903.57128905],\n",
       "       [18008.98700811],\n",
       "       [13671.67607957],\n",
       "       [16736.18696136],\n",
       "       [ 7973.44817796],\n",
       "       [20701.44864547],\n",
       "       [23379.22412844],\n",
       "       [16373.92848652],\n",
       "       [17338.31929117],\n",
       "       [12526.15603749],\n",
       "       [14126.94686552],\n",
       "       [ 8805.66359315],\n",
       "       [14366.82072049],\n",
       "       [18826.51626891],\n",
       "       [16750.87311575],\n",
       "       [ 6113.20195579],\n",
       "       [ 5246.71884704],\n",
       "       [13397.53453104],\n",
       "       [18195.01163033],\n",
       "       [17485.18083503],\n",
       "       [19134.92551101],\n",
       "       [20672.0763367 ],\n",
       "       [17945.34700578],\n",
       "       [18772.66703616],\n",
       "       [18718.81780342],\n",
       "       [18880.36550166],\n",
       "       [10675.70058491],\n",
       "       [14890.62689357],\n",
       "       [16031.25155085],\n",
       "       [ 8575.58050777],\n",
       "       [16501.20849119],\n",
       "       [16109.57770758],\n",
       "       [18273.33778705],\n",
       "       [18806.93472973],\n",
       "       [12398.87603282],\n",
       "       [19017.43627592],\n",
       "       [17401.95929351],\n",
       "       [ 9848.38055452],\n",
       "       [10337.91903404],\n",
       "       [ 9314.78361185],\n",
       "       [11610.71908079],\n",
       "       [18420.19933091],\n",
       "       [ 7288.09430664],\n",
       "       [11468.75292173],\n",
       "       [18831.41165371],\n",
       "       [16501.20849119],\n",
       "       [14430.46072283],\n",
       "       [ 4771.86652191],\n",
       "       [ 9696.62362587],\n",
       "       [16413.09156488],\n",
       "       [15595.56230408],\n",
       "       [19428.64859872],\n",
       "       [22644.91640916],\n",
       "       [ 8071.35587387],\n",
       "       [22194.541008  ],\n",
       "       [11106.49444689],\n",
       "       [15527.02691695],\n",
       "       [23898.13491673],\n",
       "       [11086.91290771],\n",
       "       [19247.5193613 ],\n",
       "       [ 9774.9497826 ],\n",
       "       [15825.64538946],\n",
       "       [ 9446.95900132],\n",
       "       [18792.24857534],\n",
       "       [18537.68856599],\n",
       "       [13363.26683747],\n",
       "       [17220.83005609],\n",
       "       [12619.1683486 ],\n",
       "       [15032.59305263],\n",
       "       [ 6788.76505753],\n",
       "       [ 9814.11286096],\n",
       "       [12511.46988311],\n",
       "       [12785.61143164],\n",
       "       [14596.90380586],\n",
       "       [10509.25750187],\n",
       "       [18772.66703616],\n",
       "       [ 8658.80204929],\n",
       "       [ 6597.84505051],\n",
       "       [12917.78682111],\n",
       "       [15115.81459415],\n",
       "       [15106.02382456],\n",
       "       [12966.74066906],\n",
       "       [14699.70688656],\n",
       "       [16491.4177216 ],\n",
       "       [ 8649.0112797 ],\n",
       "       [16408.19618008],\n",
       "       [18860.78396248],\n",
       "       [19061.49473908],\n",
       "       [11826.11601178],\n",
       "       [ 7415.37431131],\n",
       "       [18053.04547127],\n",
       "       [19384.59013556],\n",
       "       [13656.98992518],\n",
       "       [19458.02090749]])"
      ]
     },
     "execution_count": 50,
     "metadata": {},
     "output_type": "execute_result"
    }
   ],
   "source": [
    "y_pred_train=model1.predict(x_train)\n",
    "y_pred_train"
   ]
  },
  {
   "cell_type": "code",
   "execution_count": 23,
   "id": "cb2c00fb",
   "metadata": {},
   "outputs": [
    {
     "name": "stdout",
     "output_type": "stream",
     "text": [
      "Mean-Squared-Error: 6415866.312543217\n",
      "Root_Mean_squared_Error: 2532.956042362997\n"
     ]
    }
   ],
   "source": [
    "mse = mean_squared_error(y_test,y_pred_test)\n",
    "print(\"Mean-Squared-Error:\",mse)\n",
    "print(\"Root_Mean_squared_Error:\",mse**(1/2))"
   ]
  },
  {
   "cell_type": "code",
   "execution_count": 24,
   "id": "6e6368d2",
   "metadata": {},
   "outputs": [
    {
     "data": {
      "text/plain": [
       "0.7650262463310723"
      ]
     },
     "execution_count": 24,
     "metadata": {},
     "output_type": "execute_result"
    }
   ],
   "source": [
    "#Test Accuracy\n",
    "rsq_test = r2_score(y_test,y_pred_test)\n",
    "rsq_test"
   ]
  },
  {
   "cell_type": "code",
   "execution_count": 51,
   "id": "3749750d",
   "metadata": {},
   "outputs": [
    {
     "data": {
      "text/plain": [
       "0.7404192834391545"
      ]
     },
     "execution_count": 51,
     "metadata": {},
     "output_type": "execute_result"
    }
   ],
   "source": [
    "#Train Accuracy\n",
    "rsq_train = r2_score(y_train,y_pred_train)\n",
    "rsq_train"
   ]
  },
  {
   "cell_type": "markdown",
   "id": "477d2650",
   "metadata": {},
   "source": [
    "# as we can see that the test_accuracy=train_accuracy almost close\n",
    "# there is no prob in the mdoel "
   ]
  },
  {
   "cell_type": "code",
   "execution_count": 54,
   "id": "6858058d",
   "metadata": {},
   "outputs": [
    {
     "name": "stdout",
     "output_type": "stream",
     "text": [
      "[0.74964192 0.79455226 0.76417134 0.74872042 0.65980565]\n",
      "The mean Cross-Validation score is: 0.7433783178555419\n"
     ]
    }
   ],
   "source": [
    "#Cross Validation\n",
    "from sklearn.model_selection import cross_val_score\n",
    "scores=cross_val_score(model1,x,y,cv=5)\n",
    "print(scores)\n",
    "cv_score=scores.mean()\n",
    "print('The mean Cross-Validation score is:',cv_score)"
   ]
  },
  {
   "cell_type": "code",
   "execution_count": 1,
   "id": "01eb3b36",
   "metadata": {},
   "outputs": [],
   "source": [
    "#cross validation score is mean of all the Accuracy that we can acieve from the data."
   ]
  },
  {
   "cell_type": "markdown",
   "id": "6793a936",
   "metadata": {},
   "source": [
    "# checking Assumptions"
   ]
  },
  {
   "cell_type": "code",
   "execution_count": 2,
   "id": "61211aa4",
   "metadata": {},
   "outputs": [],
   "source": [
    "#1.Linearity"
   ]
  },
  {
   "cell_type": "code",
   "execution_count": 19,
   "id": "4e005f6b",
   "metadata": {},
   "outputs": [],
   "source": [
    "test_res=y_test-y_pred_test"
   ]
  },
  {
   "cell_type": "markdown",
   "id": "58788b33",
   "metadata": {},
   "source": [
    "This is the Error between the Test Predicted value and the Test values "
   ]
  },
  {
   "cell_type": "code",
   "execution_count": 30,
   "id": "988c2fcc",
   "metadata": {},
   "outputs": [
    {
     "data": {
      "image/png": "[encoded data removed]",
      "text/plain": [
       "<Figure size 640x480 with 1 Axes>"
      ]
     },
     "metadata": {},
     "output_type": "display_data"
    }
   ],
   "source": [
    "plt.scatter(y_test,test_res)\n",
    "plt.xlabel('Observed-Value')\n",
    "plt.ylabel('Fitted-value')\n",
    "plt.show()"
   ]
  },
  {
   "cell_type": "code",
   "execution_count": 33,
   "id": "b77a017d",
   "metadata": {},
   "outputs": [
    {
     "data": {
      "image/png": "[encoded data removed]",
      "text/plain": [
       "<Figure size 558.875x500 with 1 Axes>"
      ]
     },
     "metadata": {},
     "output_type": "display_data"
    }
   ],
   "source": [
    "#2.Checking for the Normality\n",
    "sns.displot(test_res,kde=True)\n",
    "plt.show()\n",
    "#as we can see from the graph that the data is Normally distributed"
   ]
  },
  {
   "cell_type": "code",
   "execution_count": 35,
   "id": "fd72bede",
   "metadata": {},
   "outputs": [
    {
     "data": {
      "image/png": "[encoded data removed]",
      "text/plain": [
       "<Figure size 640x480 with 1 Axes>"
      ]
     },
     "metadata": {},
     "output_type": "display_data"
    }
   ],
   "source": [
    "#HomoScidasticity\n",
    "plt.scatter(y_pred_test,test_res)\n",
    "plt.axhline(y=0,color='red')\n",
    "plt.xlabel('Observed-Value')\n",
    "plt.ylabel('Fitted-value')\n",
    "plt.show()"
   ]
  },
  {
   "cell_type": "code",
   "execution_count": 39,
   "id": "b3c2da8f",
   "metadata": {},
   "outputs": [
    {
     "data": {
      "text/html": [
       "<table class=\"simpletable\">\n",
       "<caption>OLS Regression Results</caption>\n",
       "<tr>\n",
       "  <th>Dep. Variable:</th>            <td>y</td>        <th>  R-squared:         </th> <td>   0.753</td>\n",
       "</tr>\n",
       "<tr>\n",
       "  <th>Model:</th>                   <td>OLS</td>       <th>  Adj. R-squared:    </th> <td>   0.752</td>\n",
       "</tr>\n",
       "<tr>\n",
       "  <th>Method:</th>             <td>Least Squares</td>  <th>  F-statistic:       </th> <td>   603.4</td>\n",
       "</tr>\n",
       "<tr>\n",
       "  <th>Date:</th>             <td>Wed, 25 Jan 2023</td> <th>  Prob (F-statistic):</th> <td>5.06e-62</td>\n",
       "</tr>\n",
       "<tr>\n",
       "  <th>Time:</th>                 <td>12:26:04</td>     <th>  Log-Likelihood:    </th> <td> -1855.4</td>\n",
       "</tr>\n",
       "<tr>\n",
       "  <th>No. Observations:</th>      <td>   200</td>      <th>  AIC:               </th> <td>   3715.</td>\n",
       "</tr>\n",
       "<tr>\n",
       "  <th>Df Residuals:</th>          <td>   198</td>      <th>  BIC:               </th> <td>   3721.</td>\n",
       "</tr>\n",
       "<tr>\n",
       "  <th>Df Model:</th>              <td>     1</td>      <th>                     </th>     <td> </td>   \n",
       "</tr>\n",
       "<tr>\n",
       "  <th>Covariance Type:</th>      <td>nonrobust</td>    <th>                     </th>     <td> </td>   \n",
       "</tr>\n",
       "</table>\n",
       "<table class=\"simpletable\">\n",
       "<tr>\n",
       "      <td></td>         <th>coef</th>     <th>std err</th>      <th>t</th>      <th>P>|t|</th>  <th>[0.025</th>    <th>0.975]</th>  \n",
       "</tr>\n",
       "<tr>\n",
       "  <th>Intercept</th> <td> 4243.0282</td> <td>  438.525</td> <td>    9.676</td> <td> 0.000</td> <td> 3378.249</td> <td> 5107.807</td>\n",
       "</tr>\n",
       "<tr>\n",
       "  <th>x</th>         <td>    0.0487</td> <td>    0.002</td> <td>   24.564</td> <td> 0.000</td> <td>    0.045</td> <td>    0.053</td>\n",
       "</tr>\n",
       "</table>\n",
       "<table class=\"simpletable\">\n",
       "<tr>\n",
       "  <th>Omnibus:</th>       <td> 6.851</td> <th>  Durbin-Watson:     </th> <td>   1.967</td>\n",
       "</tr>\n",
       "<tr>\n",
       "  <th>Prob(Omnibus):</th> <td> 0.033</td> <th>  Jarque-Bera (JB):  </th> <td>   6.692</td>\n",
       "</tr>\n",
       "<tr>\n",
       "  <th>Skew:</th>          <td>-0.373</td> <th>  Prob(JB):          </th> <td>  0.0352</td>\n",
       "</tr>\n",
       "<tr>\n",
       "  <th>Kurtosis:</th>      <td> 3.495</td> <th>  Cond. No.          </th> <td>5.28e+05</td>\n",
       "</tr>\n",
       "</table><br/><br/>Notes:<br/>[1] Standard Errors assume that the covariance matrix of the errors is correctly specified.<br/>[2] The condition number is large, 5.28e+05. This might indicate that there are<br/>strong multicollinearity or other numerical problems."
      ],
      "text/plain": [
       "<class 'statsmodels.iolib.summary.Summary'>\n",
       "\"\"\"\n",
       "                            OLS Regression Results                            \n",
       "==============================================================================\n",
       "Dep. Variable:                      y   R-squared:                       0.753\n",
       "Model:                            OLS   Adj. R-squared:                  0.752\n",
       "Method:                 Least Squares   F-statistic:                     603.4\n",
       "Date:                Wed, 25 Jan 2023   Prob (F-statistic):           5.06e-62\n",
       "Time:                        12:26:04   Log-Likelihood:                -1855.4\n",
       "No. Observations:                 200   AIC:                             3715.\n",
       "Df Residuals:                     198   BIC:                             3721.\n",
       "Df Model:                           1                                         \n",
       "Covariance Type:            nonrobust                                         \n",
       "==============================================================================\n",
       "                 coef    std err          t      P>|t|      [0.025      0.975]\n",
       "------------------------------------------------------------------------------\n",
       "Intercept   4243.0282    438.525      9.676      0.000    3378.249    5107.807\n",
       "x              0.0487      0.002     24.564      0.000       0.045       0.053\n",
       "==============================================================================\n",
       "Omnibus:                        6.851   Durbin-Watson:                   1.967\n",
       "Prob(Omnibus):                  0.033   Jarque-Bera (JB):                6.692\n",
       "Skew:                          -0.373   Prob(JB):                       0.0352\n",
       "Kurtosis:                       3.495   Cond. No.                     5.28e+05\n",
       "==============================================================================\n",
       "\n",
       "Notes:\n",
       "[1] Standard Errors assume that the covariance matrix of the errors is correctly specified.\n",
       "[2] The condition number is large, 5.28e+05. This might indicate that there are\n",
       "strong multicollinearity or other numerical problems.\n",
       "\"\"\""
      ]
     },
     "execution_count": 39,
     "metadata": {},
     "output_type": "execute_result"
    }
   ],
   "source": [
    "#Vatiance significance:\n",
    "import statsmodels.formula.api as smf\n",
    "model2=smf.ols('y~x',data=df2).fit()\n",
    "model2.summary()"
   ]
  },
  {
   "cell_type": "markdown",
   "id": "271ce5c5",
   "metadata": {},
   "source": [
    "1)its going to apply the Anova test ie F-Test\n",
    "\n",
    "h0:the Average line is the Best fit line\n",
    "\n",
    "h1:the Regression line is the BEst fit line\n",
    "\n",
    "we can see that (pvalue < 0.05) so the null hypothesis is rejected, hence proved that Regression Line is the best fit line \n"
   ]
  },
  {
   "cell_type": "code",
   "execution_count": 41,
   "id": "cc61f677",
   "metadata": {},
   "outputs": [
    {
     "data": {
      "text/plain": [
       "array([[6646.79889847]])"
      ]
     },
     "execution_count": 41,
     "metadata": {},
     "output_type": "execute_result"
    }
   ],
   "source": [
    "#predicting the model\n",
    "model1.predict([[50000]])"
   ]
  },
  {
   "cell_type": "code",
   "execution_count": null,
   "id": "2432a020",
   "metadata": {},
   "outputs": [],
   "source": []
  }
 ],
 "metadata": {
  "kernelspec": {
   "display_name": "Python 3 (ipykernel)",
   "language": "python",
   "name": "python3"
  },
  "language_info": {
   "codemirror_mode": {
    "name": "ipython",
    "version": 3
   },
   "file_extension": ".py",
   "mimetype": "text/x-python",
   "name": "python",
   "nbconvert_exporter": "python",
   "pygments_lexer": "ipython3",
   "version": "3.9.13"
  }
 },
 "nbformat": 4,
 "nbformat_minor": 5
}
