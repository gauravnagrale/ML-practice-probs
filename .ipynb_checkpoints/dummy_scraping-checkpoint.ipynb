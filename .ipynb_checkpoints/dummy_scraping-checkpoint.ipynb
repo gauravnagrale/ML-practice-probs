{
 "cells": [
  {
   "cell_type": "code",
   "execution_count": 2,
   "id": "e4ed4471",
   "metadata": {},
   "outputs": [],
   "source": [
    "import requests\n",
    "from bs4 import BeautifulSoup\n",
    "import pandas as pd\n",
    "import numpy as np"
   ]
  },
  {
   "cell_type": "code",
   "execution_count": 15,
   "id": "a63e5c8f",
   "metadata": {},
   "outputs": [
    {
     "name": "stdout",
     "output_type": "stream",
     "text": [
      "Printing the title:- <title>AI in healthcare to Improve Patient Outcomes | Blackcoffer Insights</title>\n"
     ]
    }
   ],
   "source": [
    "url = \"https://insights.blackcoffer.com/ai-in-healthcare-to-improve-patient-outcomes/\"\n",
    "\n",
    "# Send a GET request to the website\n",
    "r = requests.get(url)\n",
    "html_cont=r.content\n",
    "soup = BeautifulSoup(r.content, \"html.parser\")\n",
    "#print(soup.prettify)\n",
    "#HTML tree traversel\n",
    "title=soup.title\n",
    "print('Printing the title:-',title)"
   ]
  },
  {
   "cell_type": "code",
   "execution_count": null,
   "id": "7cb4ca33",
   "metadata": {},
   "outputs": [],
   "source": []
  },
  {
   "cell_type": "code",
   "execution_count": null,
   "id": "d5d88808",
   "metadata": {},
   "outputs": [],
   "source": []
  },
  {
   "cell_type": "code",
   "execution_count": null,
   "id": "971980a9",
   "metadata": {},
   "outputs": [],
   "source": []
  },
  {
   "cell_type": "code",
   "execution_count": null,
   "id": "33c1a919",
   "metadata": {},
   "outputs": [],
   "source": []
  },
  {
   "cell_type": "code",
   "execution_count": null,
   "id": "56a6a5ee",
   "metadata": {},
   "outputs": [],
   "source": []
  }
 ],
 "metadata": {
  "kernelspec": {
   "display_name": "Python 3 (ipykernel)",
   "language": "python",
   "name": "python3"
  },
  "language_info": {
   "codemirror_mode": {
    "name": "ipython",
    "version": 3
   },
   "file_extension": ".py",
   "mimetype": "text/x-python",
   "name": "python",
   "nbconvert_exporter": "python",
   "pygments_lexer": "ipython3",
   "version": "3.9.13"
  }
 },
 "nbformat": 4,
 "nbformat_minor": 5
}
