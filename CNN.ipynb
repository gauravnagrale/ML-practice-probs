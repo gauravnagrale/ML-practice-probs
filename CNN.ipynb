{
 "cells": [
  {
   "cell_type": "code",
   "execution_count": 2,
   "id": "c269f97a",
   "metadata": {},
   "outputs": [],
   "source": [
    "import numpy as np\n",
    "import pandas as pd\n",
    "import tensorflow as tf\n",
    "import keras\n",
    "import seaborn as sns\n",
    "import matplotlib.pyplot as plt\n",
    "from sklearn.model_selection import train_test_split"
   ]
  },
  {
   "cell_type": "code",
   "execution_count": 9,
   "id": "13dfe452",
   "metadata": {},
   "outputs": [
    {
     "name": "stdout",
     "output_type": "stream",
     "text": [
      "Collecting scikit-learn\n",
      "  Downloading scikit_learn-1.2.2-cp310-cp310-win_amd64.whl (8.3 MB)\n",
      "     ---------------------------------------- 8.3/8.3 MB 4.7 MB/s eta 0:00:00\n",
      "Collecting scipy\n",
      "  Downloading scipy-1.10.1-cp310-cp310-win_amd64.whl (42.5 MB)\n",
      "     ---------------------------------------- 42.5/42.5 MB 4.1 MB/s eta 0:00:00\n",
      "Requirement already satisfied: matplotlib in d:\\python\\lib\\site-packages (3.7.1)\n",
      "Requirement already satisfied: numpy>=1.17.3 in d:\\python\\lib\\site-packages (from scikit-learn) (1.22.2)\n",
      "Collecting joblib>=1.1.1 (from scikit-learn)\n",
      "  Downloading joblib-1.2.0-py3-none-any.whl (297 kB)\n",
      "     -------------------------------------- 298.0/298.0 kB 6.1 MB/s eta 0:00:00\n",
      "Collecting threadpoolctl>=2.0.0 (from scikit-learn)\n",
      "  Downloading threadpoolctl-3.1.0-py3-none-any.whl (14 kB)\n",
      "Requirement already satisfied: contourpy>=1.0.1 in d:\\python\\lib\\site-packages (from matplotlib) (1.0.7)\n",
      "Requirement already satisfied: cycler>=0.10 in d:\\python\\lib\\site-packages (from matplotlib) (0.11.0)\n",
      "Requirement already satisfied: fonttools>=4.22.0 in d:\\python\\lib\\site-packages (from matplotlib) (4.39.3)\n",
      "Requirement already satisfied: kiwisolver>=1.0.1 in d:\\python\\lib\\site-packages (from matplotlib) (1.4.4)\n",
      "Requirement already satisfied: packaging>=20.0 in d:\\python\\lib\\site-packages (from matplotlib) (21.3)\n",
      "Requirement already satisfied: pillow>=6.2.0 in d:\\python\\lib\\site-packages (from matplotlib) (9.5.0)\n",
      "Requirement already satisfied: pyparsing>=2.3.1 in d:\\python\\lib\\site-packages (from matplotlib) (3.0.8)\n",
      "Requirement already satisfied: python-dateutil>=2.7 in d:\\python\\lib\\site-packages (from matplotlib) (2.8.2)\n",
      "Requirement already satisfied: six>=1.5 in d:\\python\\lib\\site-packages (from python-dateutil>=2.7->matplotlib) (1.16.0)\n",
      "Installing collected packages: threadpoolctl, scipy, joblib, scikit-learn\n",
      "Successfully installed joblib-1.2.0 scikit-learn-1.2.2 scipy-1.10.1 threadpoolctl-3.1.0\n"
     ]
    },
    {
     "name": "stderr",
     "output_type": "stream",
     "text": [
      "WARNING: Ignoring invalid distribution -ip (d:\\python\\lib\\site-packages)\n",
      "WARNING: Ignoring invalid distribution -ip (d:\\python\\lib\\site-packages)\n"
     ]
    }
   ],
   "source": [
    "!pip install scikit-learn scipy matplotlib"
   ]
  },
  {
   "cell_type": "markdown",
   "id": "4caa27c6",
   "metadata": {},
   "source": [
    "# Image data processing"
   ]
  },
  {
   "cell_type": "code",
   "execution_count": 3,
   "id": "7411b022",
   "metadata": {},
   "outputs": [
    {
     "name": "stdout",
     "output_type": "stream",
     "text": [
      "2.9.1\n",
      "Num GPUs Available:  0\n",
      "[]\n"
     ]
    }
   ],
   "source": [
    "print(tf.__version__)\n",
    "print(\"Num GPUs Available: \", len(tf.config.list_physical_devices('GPU')))\n",
    "\n",
    "gpus = tf.config.list_physical_devices('GPU')\n",
    "print(gpus)\n",
    "for gpu in gpus:\n",
    "    print(\"Name:\", gpu.name, \"  Type:\", gpu.device_type)"
   ]
  },
  {
   "cell_type": "code",
   "execution_count": 4,
   "id": "7cad40e8",
   "metadata": {},
   "outputs": [],
   "source": [
    "from keras.preprocessing.image import ImageDataGenerator"
   ]
  },
  {
   "cell_type": "markdown",
   "id": "78615d68",
   "metadata": {},
   "source": [
    "# processing the training set"
   ]
  },
  {
   "cell_type": "code",
   "execution_count": 5,
   "id": "53240059",
   "metadata": {},
   "outputs": [],
   "source": [
    "gen=ImageDataGenerator(rescale=1/255,shear_range=0.2,zoom_range=0.2)\n",
    "#rescale=1/255 coz we have to scale the image in the range of 255\n",
    "#shear_range=0.2 if some images are slanted then those images will be tilted by 20 degrees\n",
    "# zoom_range=0.2 if some of the images are shrinked then those images will be zoomed by 20%"
   ]
  },
  {
   "cell_type": "code",
   "execution_count": 6,
   "id": "956cfc5a",
   "metadata": {},
   "outputs": [
    {
     "name": "stdout",
     "output_type": "stream",
     "text": [
      "Found 8048 images belonging to 2 classes.\n"
     ]
    },
    {
     "data": {
      "text/plain": [
       "'float32'"
      ]
     },
     "execution_count": 6,
     "metadata": {},
     "output_type": "execute_result"
    }
   ],
   "source": [
    "training_set=gen.flow_from_directory('C:\\\\Users\\\\Gaura\\\\OneDrive\\\\Desktop\\\\dataset\\\\CNN dataset\\\\training_set',target_size=(64,64),class_mode='binary')\n",
    "training_set.dtype"
   ]
  },
  {
   "cell_type": "code",
   "execution_count": 7,
   "id": "5a5ff614",
   "metadata": {},
   "outputs": [
    {
     "data": {
      "text/plain": [
       "{'cats': 0, 'dogs': 1}"
      ]
     },
     "execution_count": 7,
     "metadata": {},
     "output_type": "execute_result"
    }
   ],
   "source": [
    "training_set.class_indices\n",
    "# here as it is a training dataset the cats will be taken as index of 0 and the dogs will be taken as 1"
   ]
  },
  {
   "cell_type": "code",
   "execution_count": 8,
   "id": "81f3f273",
   "metadata": {},
   "outputs": [],
   "source": [
    "# processig the test set"
   ]
  },
  {
   "cell_type": "code",
   "execution_count": 8,
   "id": "90486296",
   "metadata": {},
   "outputs": [],
   "source": [
    "test_datagen=ImageDataGenerator(rescale=1/255)"
   ]
  },
  {
   "cell_type": "code",
   "execution_count": 9,
   "id": "ced02374",
   "metadata": {},
   "outputs": [
    {
     "name": "stdout",
     "output_type": "stream",
     "text": [
      "Found 2000 images belonging to 2 classes.\n"
     ]
    }
   ],
   "source": [
    "test_set=gen.flow_from_directory('C:\\\\Users\\\\Gaura\\\\OneDrive\\\\Desktop\\\\dataset\\\\CNN dataset\\\\test_set',target_size=(64,64),class_mode='binary')"
   ]
  },
  {
   "cell_type": "markdown",
   "id": "2243df31",
   "metadata": {},
   "source": [
    "# Modeling\n",
    "# buliding the CNN model"
   ]
  },
  {
   "cell_type": "code",
   "execution_count": 10,
   "id": "38dd3dc3",
   "metadata": {},
   "outputs": [],
   "source": [
    "from keras.models import Sequential\n",
    "classifier=Sequential()"
   ]
  },
  {
   "cell_type": "markdown",
   "id": "b4b5114a",
   "metadata": {},
   "source": [
    "# Step1-->Convolution"
   ]
  },
  {
   "cell_type": "code",
   "execution_count": 11,
   "id": "8e938d67",
   "metadata": {},
   "outputs": [],
   "source": [
    "from keras.layers import Conv2D\n",
    "from keras.layers import Conv3D\n",
    "classifier.add(Conv2D(filters=32,kernel_size=3,activation='relu',input_shape=[64,64,3]))\n",
    "# here the filter size will be of 32 size and they will be of 3x3matrix \n",
    "# coz we have taken the image size of 64x64 we will have to take that as an input size and that will be of 3D matrix\n",
    "#kernel_size =3 is we will be using the 3x3 matrix"
   ]
  },
  {
   "cell_type": "markdown",
   "id": "b1485522",
   "metadata": {},
   "source": [
    "# step2-->pooling"
   ]
  },
  {
   "cell_type": "code",
   "execution_count": 13,
   "id": "a1a8dc61",
   "metadata": {},
   "outputs": [],
   "source": [
    "from keras.layers import MaxPooling2D\n",
    "classifier.add(MaxPooling2D(pool_size=2,strides=2))"
   ]
  },
  {
   "cell_type": "markdown",
   "id": "4623806a",
   "metadata": {},
   "source": [
    "# Adding the second layer "
   ]
  },
  {
   "cell_type": "code",
   "execution_count": 14,
   "id": "64fcfd94",
   "metadata": {},
   "outputs": [],
   "source": [
    "classifier.add(Conv2D(filters=32,kernel_size=3,activation='relu'))\n",
    "classifier.add(MaxPooling2D(pool_size=2,strides=2))"
   ]
  },
  {
   "cell_type": "markdown",
   "id": "8a84fdd0",
   "metadata": {},
   "source": [
    "#Flattening"
   ]
  },
  {
   "cell_type": "code",
   "execution_count": 15,
   "id": "77a18f5c",
   "metadata": {},
   "outputs": [],
   "source": [
    "from keras.layers import Flatten\n",
    "classifier.add(Flatten())"
   ]
  },
  {
   "cell_type": "markdown",
   "id": "436127bf",
   "metadata": {},
   "source": [
    "# Full connection"
   ]
  },
  {
   "cell_type": "code",
   "execution_count": 16,
   "id": "74610792",
   "metadata": {},
   "outputs": [],
   "source": [
    "from keras.layers import Dense\n",
    "classifier.add(Dense(units=128,activation='relu')) #hidden layer with the 128 Neuron\n",
    "classifier.add(Dense(units=1,activation='sigmoid')) #output layer with one neuron"
   ]
  },
  {
   "cell_type": "markdown",
   "id": "cf403335",
   "metadata": {},
   "source": [
    "# compiling the CNN"
   ]
  },
  {
   "cell_type": "code",
   "execution_count": 17,
   "id": "2f8a1821",
   "metadata": {},
   "outputs": [],
   "source": [
    "classifier.compile(optimizer='adam',loss='binary_crossentropy',metrics=['accuracy'])"
   ]
  },
  {
   "cell_type": "code",
   "execution_count": null,
   "id": "33ed82e8",
   "metadata": {},
   "outputs": [
    {
     "name": "stdout",
     "output_type": "stream",
     "text": [
      "Epoch 1/25\n",
      "252/252 [==============================] - 69s 270ms/step - loss: 0.6708 - accuracy: 0.5778 - val_loss: 0.6195 - val_accuracy: 0.6655\n",
      "Epoch 2/25\n",
      "252/252 [==============================] - 65s 260ms/step - loss: 0.5882 - accuracy: 0.6850 - val_loss: 0.5991 - val_accuracy: 0.6795\n",
      "Epoch 3/25\n",
      "252/252 [==============================] - 67s 264ms/step - loss: 0.5265 - accuracy: 0.7416 - val_loss: 0.5176 - val_accuracy: 0.7510\n",
      "Epoch 4/25\n",
      "252/252 [==============================] - 67s 267ms/step - loss: 0.4939 - accuracy: 0.7558 - val_loss: 0.5055 - val_accuracy: 0.7565\n",
      "Epoch 5/25\n",
      "252/252 [==============================] - 67s 267ms/step - loss: 0.4641 - accuracy: 0.7826 - val_loss: 0.4842 - val_accuracy: 0.7755\n",
      "Epoch 6/25\n",
      "252/252 [==============================] - 69s 274ms/step - loss: 0.4349 - accuracy: 0.7973 - val_loss: 0.4735 - val_accuracy: 0.7790\n",
      "Epoch 7/25\n",
      "252/252 [==============================] - 69s 272ms/step - loss: 0.4179 - accuracy: 0.8070 - val_loss: 0.4733 - val_accuracy: 0.7805\n",
      "Epoch 8/25\n",
      "252/252 [==============================] - 69s 272ms/step - loss: 0.3929 - accuracy: 0.8205 - val_loss: 0.5521 - val_accuracy: 0.7570\n",
      "Epoch 9/25\n",
      "252/252 [==============================] - 74s 295ms/step - loss: 0.3667 - accuracy: 0.8326 - val_loss: 0.4737 - val_accuracy: 0.7905\n",
      "Epoch 10/25\n",
      "252/252 [==============================] - 72s 284ms/step - loss: 0.3501 - accuracy: 0.8459 - val_loss: 0.4842 - val_accuracy: 0.7850\n",
      "Epoch 11/25\n",
      "252/252 [==============================] - 66s 262ms/step - loss: 0.3245 - accuracy: 0.8583 - val_loss: 0.4757 - val_accuracy: 0.7855\n",
      "Epoch 12/25\n",
      "236/252 [===========================>..] - ETA: 3s - loss: 0.2989 - accuracy: 0.8714"
     ]
    }
   ],
   "source": [
    "classifier.fit(x=training_set,validation_data=test_set,epochs=25)"
   ]
  },
  {
   "cell_type": "markdown",
   "id": "1326aefd",
   "metadata": {},
   "source": [
    "# Evaluation"
   ]
  },
  {
   "cell_type": "code",
   "execution_count": 23,
   "id": "86b25896",
   "metadata": {},
   "outputs": [],
   "source": [
    "import numpy as np\n",
    "from PIL import Image"
   ]
  },
  {
   "cell_type": "markdown",
   "id": "14387d99",
   "metadata": {},
   "source": [
    "# testing the Dog image"
   ]
  },
  {
   "cell_type": "code",
   "execution_count": 24,
   "id": "6f27e542",
   "metadata": {},
   "outputs": [],
   "source": [
    "test_image=Image.open('C:\\\\Users\\\\Gaura\\\\OneDrive\\\\Desktop\\\\dataset\\\\CNN dataset\\\\cat_or_dog_2.jpg')\n",
    "test_image=test_image.resize((64,64))\n",
    "test_image=np.array(test_image)\n",
    "test_image=np.expand_dims(test_image,axis=0)"
   ]
  },
  {
   "cell_type": "code",
   "execution_count": 1,
   "id": "6b31b351",
   "metadata": {},
   "outputs": [
    {
     "ename": "NameError",
     "evalue": "name 'classifier' is not defined",
     "output_type": "error",
     "traceback": [
      "\u001b[1;31m---------------------------------------------------------------------------\u001b[0m",
      "\u001b[1;31mNameError\u001b[0m                                 Traceback (most recent call last)",
      "\u001b[1;32m~\\AppData\\Local\\Temp\\ipykernel_15132\\1334759381.py\u001b[0m in \u001b[0;36m<module>\u001b[1;34m\u001b[0m\n\u001b[1;32m----> 1\u001b[1;33m \u001b[0mresult\u001b[0m\u001b[1;33m=\u001b[0m\u001b[0mclassifier\u001b[0m\u001b[1;33m.\u001b[0m\u001b[0mpredict\u001b[0m\u001b[1;33m(\u001b[0m\u001b[0mtest_image\u001b[0m\u001b[1;33m)\u001b[0m\u001b[1;33m\u001b[0m\u001b[1;33m\u001b[0m\u001b[0m\n\u001b[0m\u001b[0;32m      2\u001b[0m \u001b[0mresult\u001b[0m\u001b[1;33m[\u001b[0m\u001b[1;33m:\u001b[0m\u001b[1;36m5\u001b[0m\u001b[1;33m]\u001b[0m\u001b[1;33m\u001b[0m\u001b[1;33m\u001b[0m\u001b[0m\n",
      "\u001b[1;31mNameError\u001b[0m: name 'classifier' is not defined"
     ]
    }
   ],
   "source": [
    "result=classifier.predict(test_image)\n",
    "result[:5]"
   ]
  },
  {
   "cell_type": "code",
   "execution_count": 26,
   "id": "2a60a42d",
   "metadata": {},
   "outputs": [
    {
     "name": "stdout",
     "output_type": "stream",
     "text": [
      "Cat\n"
     ]
    }
   ],
   "source": [
    "if result[0][0]==1:\n",
    "    print('Dog')\n",
    "else:\n",
    "    print('Cat')"
   ]
  },
  {
   "cell_type": "markdown",
   "id": "c61c79a0",
   "metadata": {},
   "source": [
    "# testing the cat image"
   ]
  },
  {
   "cell_type": "code",
   "execution_count": 27,
   "id": "b62a153c",
   "metadata": {},
   "outputs": [
    {
     "name": "stdout",
     "output_type": "stream",
     "text": [
      "1/1 [==============================] - 0s 16ms/step\n",
      "Dog\n"
     ]
    }
   ],
   "source": [
    "test_image=Image.open('C:\\\\Users\\\\Gaura\\\\OneDrive\\\\Desktop\\\\dataset\\\\CNN dataset\\\\cat_or_dog_1.jpg')\n",
    "test_image=test_image.resize((64,64))\n",
    "test_image=np.array(test_image)\n",
    "test_image=np.expand_dims(test_image,axis=0)\n",
    "result=classifier.predict(test_image)\n",
    "if result[0][0]==1:\n",
    "    print('Dog')\n",
    "else:\n",
    "    print('Cat')"
   ]
  },
  {
   "cell_type": "code",
   "execution_count": 2,
   "id": "1d32e57d",
   "metadata": {},
   "outputs": [
    {
     "data": {
      "text/plain": [
       "'C:\\\\Users\\\\Gaura\\\\MY-ML'"
      ]
     },
     "execution_count": 2,
     "metadata": {},
     "output_type": "execute_result"
    }
   ],
   "source": [
    "pwd"
   ]
  },
  {
   "cell_type": "code",
   "execution_count": null,
   "id": "8719de44",
   "metadata": {},
   "outputs": [],
   "source": []
  }
 ],
 "metadata": {
  "kernelspec": {
   "display_name": "Python 3 (ipykernel)",
   "language": "python",
   "name": "python3"
  },
  "language_info": {
   "codemirror_mode": {
    "name": "ipython",
    "version": 3
   },
   "file_extension": ".py",
   "mimetype": "text/x-python",
   "name": "python",
   "nbconvert_exporter": "python",
   "pygments_lexer": "ipython3",
   "version": "3.9.13"
  }
 },
 "nbformat": 4,
 "nbformat_minor": 5
}
