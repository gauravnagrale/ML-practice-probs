{
 "cells": [
  {
   "cell_type": "code",
   "execution_count": 1,
   "id": "13a55d2a",
   "metadata": {},
   "outputs": [
    {
     "name": "stdout",
     "output_type": "stream",
     "text": [
      "Collecting opencv-python\n",
      "  Using cached opencv_python-4.7.0.72-cp37-abi3-win_amd64.whl (38.2 MB)\n",
      "Requirement already satisfied: numpy>=1.21.2 in d:\\python\\lib\\site-packages (from opencv-python) (1.22.2)\n",
      "Installing collected packages: opencv-python\n",
      "Successfully installed opencv-python-4.7.0.72\n",
      "Note: you may need to restart the kernel to use updated packages.\n"
     ]
    },
    {
     "name": "stderr",
     "output_type": "stream",
     "text": [
      "WARNING: Ignoring invalid distribution -ip (d:\\python\\lib\\site-packages)\n",
      "WARNING: Ignoring invalid distribution -ip (d:\\python\\lib\\site-packages)\n"
     ]
    }
   ],
   "source": [
    "pip install opencv-python\n"
   ]
  },
  {
   "cell_type": "code",
   "execution_count": null,
   "id": "cf37652a",
   "metadata": {},
   "outputs": [],
   "source": [
    "!pip install gra"
   ]
  },
  {
   "cell_type": "code",
   "execution_count": 1,
   "id": "a61e75fc",
   "metadata": {},
   "outputs": [],
   "source": [
    "import numpy as np\n",
    "import pandas as pd\n",
    "import cv2"
   ]
  },
  {
   "cell_type": "markdown",
   "id": "e4625cd4",
   "metadata": {},
   "source": [
    "# read images/videos"
   ]
  },
  {
   "cell_type": "code",
   "execution_count": 2,
   "id": "b922a804",
   "metadata": {},
   "outputs": [
    {
     "data": {
      "text/plain": [
       "(1358, 1500, 3)"
      ]
     },
     "execution_count": 2,
     "metadata": {},
     "output_type": "execute_result"
    }
   ],
   "source": [
    "# as it as 3D image we have 3 at the last and it gives us the pixels at thr rows and column\n",
    "img=cv2.imread('C:\\\\Users\\\\Gaura\\\\OneDrive\\\\Desktop\\\\dataset\\\\openCV\\\\Modi.jpg',1)\n",
    "img.shape"
   ]
  },
  {
   "cell_type": "code",
   "execution_count": 4,
   "id": "0024efb1",
   "metadata": {},
   "outputs": [],
   "source": [
    "#displaying the image\n",
    "# here the first parameter: we are giving the title to the image\n",
    "#and the second parameter is the image variable\n",
    "cv2.imshow('Modi_image',img)\n",
    "# wait allow us to operate on the image when the image is open\n",
    "#By leaving it blank it just wait to any key to be pressed\n",
    "# by giving a number we are sspecifying the time limit\n",
    "cv2.waitKey(1000)\n",
    "cv2.destroyAllWindows()"
   ]
  },
  {
   "cell_type": "markdown",
   "id": "fd6311b8",
   "metadata": {},
   "source": [
    "# resizeing the image"
   ]
  },
  {
   "cell_type": "code",
   "execution_count": 13,
   "id": "baa3df8d",
   "metadata": {},
   "outputs": [],
   "source": [
    "img=cv2.imread('C:\\\\Users\\\\Gaura\\\\OneDrive\\\\Desktop\\\\dataset\\\\openCV\\\\Modi.jpg',1)\n",
    "resize_img=cv2.resize(img,(int(img.shape[0]*0.5),750))\n",
    "gray=cv2.cvtColor(resize_img,cv2.COLOR_BGR2GRAY)\n",
    "cv2.imshow('Modi image',gray)\n",
    "cv2.waitKey(2000)\n",
    "cv2.destroyAllWindows()"
   ]
  },
  {
   "cell_type": "markdown",
   "id": "60088507",
   "metadata": {},
   "source": [
    "# face Detection"
   ]
  },
  {
   "cell_type": "code",
   "execution_count": 39,
   "id": "2e0bb87a",
   "metadata": {},
   "outputs": [
    {
     "name": "stderr",
     "output_type": "stream",
     "text": [
      "<>:10: SyntaxWarning: \"is\" with a literal. Did you mean \"==\"?\n",
      "<>:10: SyntaxWarning: \"is\" with a literal. Did you mean \"==\"?\n",
      "C:\\Users\\Gaura\\AppData\\Local\\Temp\\ipykernel_3248\\3995798810.py:10: SyntaxWarning: \"is\" with a literal. Did you mean \"==\"?\n",
      "  if face is():\n"
     ]
    }
   ],
   "source": [
    "face_classifier=cv2.CascadeClassifier('C:\\\\Users\\\\Gaura\\\\OneDrive\\\\Desktop\\\\dataset\\\\Haarcascades\\\\haarcascade_frontalface_default.xml')\n",
    "#loading the image and then converting into the grayscale\n",
    "image=cv2.imread('C:\\\\Users\\\\Gaura\\\\OneDrive\\\\Desktop\\\\dataset\\\\openCV\\\\multi_face2.jpeg')\n",
    "image=cv2.resize(image,(500,500))\n",
    "gray=cv2.cvtColor(image,cv2.COLOR_BGR2GRAY)\n",
    "\n",
    "face=face_classifier.detectMultiScale(gray,1.07,5)\n",
    "\n",
    "#when no face is detected the face_classifier returns the empty tuple\n",
    "if face is():\n",
    "    print('No face detected')\n",
    "\n",
    "for x,y,w,z in face:\n",
    "    cv2.rectangle(image,(x,y),(x+w,y+z),(0,255,100),2)\n",
    "cv2.imshow('Face Detection',image)\n",
    "cv2.waitKey()\n",
    "cv2.destroyAllWindows()"
   ]
  },
  {
   "cell_type": "markdown",
   "id": "a5fb1e7d",
   "metadata": {},
   "source": [
    "# face and Eyes detection"
   ]
  },
  {
   "cell_type": "code",
   "execution_count": 57,
   "id": "36bf38e0",
   "metadata": {},
   "outputs": [
    {
     "name": "stderr",
     "output_type": "stream",
     "text": [
      "<>:12: SyntaxWarning: \"is\" with a literal. Did you mean \"==\"?\n",
      "<>:12: SyntaxWarning: \"is\" with a literal. Did you mean \"==\"?\n",
      "C:\\Users\\Gaura\\AppData\\Local\\Temp\\ipykernel_3248\\2109704952.py:12: SyntaxWarning: \"is\" with a literal. Did you mean \"==\"?\n",
      "  if face is():\n"
     ]
    }
   ],
   "source": [
    "face_classifier=cv2.CascadeClassifier('C:\\\\Users\\\\Gaura\\\\OneDrive\\\\Desktop\\\\dataset\\\\Haarcascades\\\\haarcascade_frontalface_default.xml')\n",
    "eye_classifier=cv2.CascadeClassifier('C:\\\\Users\\\\Gaura\\\\OneDrive\\\\Desktop\\\\dataset\\\\Haarcascades\\\\haarcascade_eye.xml')\n",
    "\n",
    "#loading the image and then converting into the grayscale\n",
    "image=cv2.imread('C:\\\\Users\\\\Gaura\\\\OneDrive\\\\Desktop\\\\dataset\\\\openCV\\\\gaurav.jpeg')\n",
    "resize_image=cv2.resize(image,(500,500))\n",
    "gray=cv2.cvtColor(resize_image,cv2.COLOR_BGR2GRAY)\n",
    "\n",
    "face=face_classifier.detectMultiScale(gray,1.05,6)\n",
    "\n",
    "#checking if the face is present or not\n",
    "if face is():\n",
    "    print('the face is not present in the image')\n",
    "    \n",
    "for x,y,w,h in face:\n",
    "    cv2.rectangle(resize_image,(x,y),(x+w,y+h),(255,255,0),2)\n",
    "    roi_gray=gray[y:y+h,x:x+w]\n",
    "    roi_color=resize_image[y:y+h,x:x+w]\n",
    "    eyes=eye_classifier.detectMultiScale(roi_gray)\n",
    "    for ex,ey,ew,eh in eyes:\n",
    "        cv2.rectangle(roi_color,(ex,ey),(ex+ew,ey+eh),(0,0,255),1)\n",
    "cv2.imshow('img',resize_image)\n",
    "cv2.waitKey()\n",
    "cv2.destroyAllWindows()"
   ]
  },
  {
   "cell_type": "code",
   "execution_count": null,
   "id": "31188736",
   "metadata": {},
   "outputs": [],
   "source": []
  }
 ],
 "metadata": {
  "kernelspec": {
   "display_name": "Python 3 (ipykernel)",
   "language": "python",
   "name": "python3"
  },
  "language_info": {
   "codemirror_mode": {
    "name": "ipython",
    "version": 3
   },
   "file_extension": ".py",
   "mimetype": "text/x-python",
   "name": "python",
   "nbconvert_exporter": "python",
   "pygments_lexer": "ipython3",
   "version": "3.10.5"
  }
 },
 "nbformat": 4,
 "nbformat_minor": 5
}
