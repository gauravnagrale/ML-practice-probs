{
 "cells": [
  {
   "cell_type": "markdown",
   "id": "66dd5a7e",
   "metadata": {},
   "source": [
    "# problem statement : it has beet observed that the patients do not come back for follow_up check and we have to understand why is that and predit if a patients will come back or not??"
   ]
  },
  {
   "cell_type": "code",
   "execution_count": 2,
   "id": "622c706c",
   "metadata": {},
   "outputs": [],
   "source": [
    "import pandas as pd\n",
    "import numpy as np\n",
    "import matplotlib.pyplot as plt\n",
    "import seaborn as sns\n",
    "from sklearn.model_selection import train_test_split\n",
    "from sklearn.metrics import r2_score,mean_squared_error"
   ]
  },
  {
   "cell_type": "code",
   "execution_count": 3,
   "id": "db62e553",
   "metadata": {},
   "outputs": [
    {
     "data": {
      "text/html": [
       "<div>\n",
       "<style scoped>\n",
       "    .dataframe tbody tr th:only-of-type {\n",
       "        vertical-align: middle;\n",
       "    }\n",
       "\n",
       "    .dataframe tbody tr th {\n",
       "        vertical-align: top;\n",
       "    }\n",
       "\n",
       "    .dataframe thead th {\n",
       "        text-align: right;\n",
       "    }\n",
       "</style>\n",
       "<table border=\"1\" class=\"dataframe\">\n",
       "  <thead>\n",
       "    <tr style=\"text-align: right;\">\n",
       "      <th></th>\n",
       "      <th>Patient ID</th>\n",
       "      <th>Gender</th>\n",
       "      <th>Marital Status</th>\n",
       "      <th>City</th>\n",
       "      <th>State</th>\n",
       "      <th>Zip Code</th>\n",
       "      <th>Age</th>\n",
       "      <th>Procedure</th>\n",
       "      <th>Follow-up Attended?</th>\n",
       "    </tr>\n",
       "  </thead>\n",
       "  <tbody>\n",
       "    <tr>\n",
       "      <th>0</th>\n",
       "      <td>11234</td>\n",
       "      <td>M</td>\n",
       "      <td>Married</td>\n",
       "      <td>Allison</td>\n",
       "      <td>CO</td>\n",
       "      <td>81137</td>\n",
       "      <td>62</td>\n",
       "      <td>Extraction</td>\n",
       "      <td>Yes</td>\n",
       "    </tr>\n",
       "    <tr>\n",
       "      <th>1</th>\n",
       "      <td>15620</td>\n",
       "      <td>F</td>\n",
       "      <td>Single</td>\n",
       "      <td>Allison</td>\n",
       "      <td>CO</td>\n",
       "      <td>81137</td>\n",
       "      <td>94</td>\n",
       "      <td>Extraction</td>\n",
       "      <td>No</td>\n",
       "    </tr>\n",
       "    <tr>\n",
       "      <th>2</th>\n",
       "      <td>19622</td>\n",
       "      <td>M</td>\n",
       "      <td>Divorced</td>\n",
       "      <td>Allison</td>\n",
       "      <td>CO</td>\n",
       "      <td>81137</td>\n",
       "      <td>90</td>\n",
       "      <td>Extraction</td>\n",
       "      <td>No</td>\n",
       "    </tr>\n",
       "    <tr>\n",
       "      <th>3</th>\n",
       "      <td>21829</td>\n",
       "      <td>F</td>\n",
       "      <td>Widowed</td>\n",
       "      <td>Allison</td>\n",
       "      <td>CO</td>\n",
       "      <td>81137</td>\n",
       "      <td>81</td>\n",
       "      <td>Crown</td>\n",
       "      <td>No</td>\n",
       "    </tr>\n",
       "    <tr>\n",
       "      <th>4</th>\n",
       "      <td>21962</td>\n",
       "      <td>F</td>\n",
       "      <td>Single</td>\n",
       "      <td>Allison</td>\n",
       "      <td>CO</td>\n",
       "      <td>81137</td>\n",
       "      <td>45</td>\n",
       "      <td>Extraction</td>\n",
       "      <td>Yes</td>\n",
       "    </tr>\n",
       "  </tbody>\n",
       "</table>\n",
       "</div>"
      ],
      "text/plain": [
       "   Patient ID Gender Marital Status     City State  Zip Code  Age   Procedure  \\\n",
       "0       11234      M        Married  Allison    CO     81137   62  Extraction   \n",
       "1       15620      F         Single  Allison    CO     81137   94  Extraction   \n",
       "2       19622      M       Divorced  Allison    CO     81137   90  Extraction   \n",
       "3       21829      F        Widowed  Allison    CO     81137   81       Crown   \n",
       "4       21962      F         Single  Allison    CO     81137   45  Extraction   \n",
       "\n",
       "  Follow-up Attended?  \n",
       "0                 Yes  \n",
       "1                  No  \n",
       "2                  No  \n",
       "3                  No  \n",
       "4                 Yes  "
      ]
     },
     "execution_count": 3,
     "metadata": {},
     "output_type": "execute_result"
    }
   ],
   "source": [
    "df=pd.read_csv('C:\\\\Users\\\\Gaura\\\\OneDrive\\\\Desktop\\\\dataset\\\\follow_up.csv')\n",
    "df.head()"
   ]
  },
  {
   "cell_type": "code",
   "execution_count": 27,
   "id": "e532feca",
   "metadata": {},
   "outputs": [
    {
     "data": {
      "text/html": [
       "<div>\n",
       "<style scoped>\n",
       "    .dataframe tbody tr th:only-of-type {\n",
       "        vertical-align: middle;\n",
       "    }\n",
       "\n",
       "    .dataframe tbody tr th {\n",
       "        vertical-align: top;\n",
       "    }\n",
       "\n",
       "    .dataframe thead th {\n",
       "        text-align: right;\n",
       "    }\n",
       "</style>\n",
       "<table border=\"1\" class=\"dataframe\">\n",
       "  <thead>\n",
       "    <tr style=\"text-align: right;\">\n",
       "      <th></th>\n",
       "      <th>Patient ID</th>\n",
       "      <th>Gender</th>\n",
       "      <th>Marital Status</th>\n",
       "      <th>City</th>\n",
       "      <th>State</th>\n",
       "      <th>Zip Code</th>\n",
       "      <th>Age</th>\n",
       "      <th>Procedure</th>\n",
       "      <th>Follow_up</th>\n",
       "    </tr>\n",
       "  </thead>\n",
       "  <tbody>\n",
       "    <tr>\n",
       "      <th>0</th>\n",
       "      <td>11234</td>\n",
       "      <td>M</td>\n",
       "      <td>Married</td>\n",
       "      <td>Allison</td>\n",
       "      <td>CO</td>\n",
       "      <td>81137</td>\n",
       "      <td>62</td>\n",
       "      <td>Extraction</td>\n",
       "      <td>Yes</td>\n",
       "    </tr>\n",
       "    <tr>\n",
       "      <th>1</th>\n",
       "      <td>15620</td>\n",
       "      <td>F</td>\n",
       "      <td>Single</td>\n",
       "      <td>Allison</td>\n",
       "      <td>CO</td>\n",
       "      <td>81137</td>\n",
       "      <td>94</td>\n",
       "      <td>Extraction</td>\n",
       "      <td>No</td>\n",
       "    </tr>\n",
       "    <tr>\n",
       "      <th>2</th>\n",
       "      <td>19622</td>\n",
       "      <td>M</td>\n",
       "      <td>Divorced</td>\n",
       "      <td>Allison</td>\n",
       "      <td>CO</td>\n",
       "      <td>81137</td>\n",
       "      <td>90</td>\n",
       "      <td>Extraction</td>\n",
       "      <td>No</td>\n",
       "    </tr>\n",
       "    <tr>\n",
       "      <th>3</th>\n",
       "      <td>21829</td>\n",
       "      <td>F</td>\n",
       "      <td>Widowed</td>\n",
       "      <td>Allison</td>\n",
       "      <td>CO</td>\n",
       "      <td>81137</td>\n",
       "      <td>81</td>\n",
       "      <td>Crown</td>\n",
       "      <td>No</td>\n",
       "    </tr>\n",
       "    <tr>\n",
       "      <th>4</th>\n",
       "      <td>21962</td>\n",
       "      <td>F</td>\n",
       "      <td>Single</td>\n",
       "      <td>Allison</td>\n",
       "      <td>CO</td>\n",
       "      <td>81137</td>\n",
       "      <td>45</td>\n",
       "      <td>Extraction</td>\n",
       "      <td>Yes</td>\n",
       "    </tr>\n",
       "  </tbody>\n",
       "</table>\n",
       "</div>"
      ],
      "text/plain": [
       "   Patient ID Gender Marital Status     City State  Zip Code  Age   Procedure  \\\n",
       "0       11234      M        Married  Allison    CO     81137   62  Extraction   \n",
       "1       15620      F         Single  Allison    CO     81137   94  Extraction   \n",
       "2       19622      M       Divorced  Allison    CO     81137   90  Extraction   \n",
       "3       21829      F        Widowed  Allison    CO     81137   81       Crown   \n",
       "4       21962      F         Single  Allison    CO     81137   45  Extraction   \n",
       "\n",
       "  Follow_up  \n",
       "0       Yes  \n",
       "1        No  \n",
       "2        No  \n",
       "3        No  \n",
       "4       Yes  "
      ]
     },
     "execution_count": 27,
     "metadata": {},
     "output_type": "execute_result"
    }
   ],
   "source": [
    "df.rename(columns = {'Follow-up Attended?':'Follow_up'}, inplace = True)\n",
    "df.head()"
   ]
  },
  {
   "cell_type": "code",
   "execution_count": 5,
   "id": "3988e3fd",
   "metadata": {},
   "outputs": [],
   "source": [
    "# as we can see that fields that are preset in out data set are very simple and no need to explain further"
   ]
  },
  {
   "cell_type": "code",
   "execution_count": 10,
   "id": "942d2607",
   "metadata": {},
   "outputs": [
    {
     "data": {
      "text/plain": [
       "Patient ID             0\n",
       "Gender                 0\n",
       "Marital Status         0\n",
       "City                   0\n",
       "State                  0\n",
       "Zip Code               0\n",
       "Age                    0\n",
       "Procedure              0\n",
       "Follow-up Attended?    0\n",
       "dtype: int64"
      ]
     },
     "execution_count": 10,
     "metadata": {},
     "output_type": "execute_result"
    }
   ],
   "source": [
    "df.isnull().sum()"
   ]
  },
  {
   "cell_type": "code",
   "execution_count": 3,
   "id": "c20251b5",
   "metadata": {},
   "outputs": [
    {
     "name": "stdout",
     "output_type": "stream",
     "text": [
      "<class 'pandas.core.frame.DataFrame'>\n",
      "RangeIndex: 99 entries, 0 to 98\n",
      "Data columns (total 9 columns):\n",
      " #   Column               Non-Null Count  Dtype \n",
      "---  ------               --------------  ----- \n",
      " 0   Patient ID           99 non-null     int64 \n",
      " 1   Gender               99 non-null     object\n",
      " 2   Marital Status       99 non-null     object\n",
      " 3   City                 99 non-null     object\n",
      " 4   State                99 non-null     object\n",
      " 5   Zip Code             99 non-null     int64 \n",
      " 6   Age                  99 non-null     int64 \n",
      " 7   Procedure            99 non-null     object\n",
      " 8   Follow-up Attended?  99 non-null     object\n",
      "dtypes: int64(3), object(6)\n",
      "memory usage: 7.1+ KB\n"
     ]
    }
   ],
   "source": [
    "df.info()"
   ]
  },
  {
   "cell_type": "code",
   "execution_count": 14,
   "id": "54f42674",
   "metadata": {},
   "outputs": [
    {
     "data": {
      "text/html": [
       "<div>\n",
       "<style scoped>\n",
       "    .dataframe tbody tr th:only-of-type {\n",
       "        vertical-align: middle;\n",
       "    }\n",
       "\n",
       "    .dataframe tbody tr th {\n",
       "        vertical-align: top;\n",
       "    }\n",
       "\n",
       "    .dataframe thead th {\n",
       "        text-align: right;\n",
       "    }\n",
       "</style>\n",
       "<table border=\"1\" class=\"dataframe\">\n",
       "  <thead>\n",
       "    <tr style=\"text-align: right;\">\n",
       "      <th></th>\n",
       "      <th>Patient ID</th>\n",
       "      <th>Zip Code</th>\n",
       "      <th>Age</th>\n",
       "    </tr>\n",
       "  </thead>\n",
       "  <tbody>\n",
       "    <tr>\n",
       "      <th>Patient ID</th>\n",
       "      <td>1.000000</td>\n",
       "      <td>NaN</td>\n",
       "      <td>-0.092129</td>\n",
       "    </tr>\n",
       "    <tr>\n",
       "      <th>Zip Code</th>\n",
       "      <td>NaN</td>\n",
       "      <td>NaN</td>\n",
       "      <td>NaN</td>\n",
       "    </tr>\n",
       "    <tr>\n",
       "      <th>Age</th>\n",
       "      <td>-0.092129</td>\n",
       "      <td>NaN</td>\n",
       "      <td>1.000000</td>\n",
       "    </tr>\n",
       "  </tbody>\n",
       "</table>\n",
       "</div>"
      ],
      "text/plain": [
       "            Patient ID  Zip Code       Age\n",
       "Patient ID    1.000000       NaN -0.092129\n",
       "Zip Code           NaN       NaN       NaN\n",
       "Age          -0.092129       NaN  1.000000"
      ]
     },
     "execution_count": 14,
     "metadata": {},
     "output_type": "execute_result"
    }
   ],
   "source": [
    "df.corr()"
   ]
  },
  {
   "cell_type": "code",
   "execution_count": 4,
   "id": "b2cdd5b3",
   "metadata": {},
   "outputs": [
    {
     "data": {
      "text/html": [
       "<div>\n",
       "<style scoped>\n",
       "    .dataframe tbody tr th:only-of-type {\n",
       "        vertical-align: middle;\n",
       "    }\n",
       "\n",
       "    .dataframe tbody tr th {\n",
       "        vertical-align: top;\n",
       "    }\n",
       "\n",
       "    .dataframe thead th {\n",
       "        text-align: right;\n",
       "    }\n",
       "</style>\n",
       "<table border=\"1\" class=\"dataframe\">\n",
       "  <thead>\n",
       "    <tr style=\"text-align: right;\">\n",
       "      <th></th>\n",
       "      <th>Patient ID</th>\n",
       "      <th>Zip Code</th>\n",
       "      <th>Age</th>\n",
       "    </tr>\n",
       "  </thead>\n",
       "  <tbody>\n",
       "    <tr>\n",
       "      <th>count</th>\n",
       "      <td>99.000000</td>\n",
       "      <td>99.0</td>\n",
       "      <td>99.000000</td>\n",
       "    </tr>\n",
       "    <tr>\n",
       "      <th>mean</th>\n",
       "      <td>297007.989899</td>\n",
       "      <td>81137.0</td>\n",
       "      <td>62.818182</td>\n",
       "    </tr>\n",
       "    <tr>\n",
       "      <th>std</th>\n",
       "      <td>304907.283539</td>\n",
       "      <td>0.0</td>\n",
       "      <td>21.413025</td>\n",
       "    </tr>\n",
       "    <tr>\n",
       "      <th>min</th>\n",
       "      <td>11234.000000</td>\n",
       "      <td>81137.0</td>\n",
       "      <td>24.000000</td>\n",
       "    </tr>\n",
       "    <tr>\n",
       "      <th>25%</th>\n",
       "      <td>52802.000000</td>\n",
       "      <td>81137.0</td>\n",
       "      <td>43.000000</td>\n",
       "    </tr>\n",
       "    <tr>\n",
       "      <th>50%</th>\n",
       "      <td>98812.000000</td>\n",
       "      <td>81137.0</td>\n",
       "      <td>68.000000</td>\n",
       "    </tr>\n",
       "    <tr>\n",
       "      <th>75%</th>\n",
       "      <td>534712.500000</td>\n",
       "      <td>81137.0</td>\n",
       "      <td>81.000000</td>\n",
       "    </tr>\n",
       "    <tr>\n",
       "      <th>max</th>\n",
       "      <td>936597.000000</td>\n",
       "      <td>81137.0</td>\n",
       "      <td>102.000000</td>\n",
       "    </tr>\n",
       "  </tbody>\n",
       "</table>\n",
       "</div>"
      ],
      "text/plain": [
       "          Patient ID  Zip Code         Age\n",
       "count      99.000000      99.0   99.000000\n",
       "mean   297007.989899   81137.0   62.818182\n",
       "std    304907.283539       0.0   21.413025\n",
       "min     11234.000000   81137.0   24.000000\n",
       "25%     52802.000000   81137.0   43.000000\n",
       "50%     98812.000000   81137.0   68.000000\n",
       "75%    534712.500000   81137.0   81.000000\n",
       "max    936597.000000   81137.0  102.000000"
      ]
     },
     "execution_count": 4,
     "metadata": {},
     "output_type": "execute_result"
    }
   ],
   "source": [
    "df.describe()\n",
    "# 1. we can see that min age of the patients is 24 years \n",
    "# 2. mean age : 63\n",
    "# 3.max age: 102 "
   ]
  },
  {
   "cell_type": "code",
   "execution_count": 5,
   "id": "e80d5dd8",
   "metadata": {},
   "outputs": [
    {
     "data": {
      "image/png": "[encoded data removed]",
      "text/plain": [
       "<Figure size 640x480 with 1 Axes>"
      ]
     },
     "metadata": {},
     "output_type": "display_data"
    }
   ],
   "source": [
    "sns.countplot(x='Gender',data=df)\n",
    "plt.show()\n",
    "# 1.as we can see that we have all the type of gender in our dataset i.e Male ,Female ,transgender and etc \n",
    "# and max count if female and they are the one of the gender that do not return for the follow check up"
   ]
  },
  {
   "cell_type": "code",
   "execution_count": 28,
   "id": "804108b0",
   "metadata": {},
   "outputs": [
    {
     "data": {
      "image/png": "[encoded data removed]",
      "text/plain": [
       "<Figure size 640x480 with 1 Axes>"
      ]
     },
     "metadata": {},
     "output_type": "display_data"
    }
   ],
   "source": [
    "sns.countplot(x='State',data=df)\n",
    "plt.show()"
   ]
  },
  {
   "cell_type": "code",
   "execution_count": 29,
   "id": "c80cb563",
   "metadata": {},
   "outputs": [
    {
     "data": {
      "image/png": "[encoded data removed]",
      "text/plain": [
       "<Figure size 640x480 with 1 Axes>"
      ]
     },
     "metadata": {},
     "output_type": "display_data"
    }
   ],
   "source": [
    "sns.countplot(x='City',data=df)\n",
    "plt.show()"
   ]
  },
  {
   "cell_type": "code",
   "execution_count": 11,
   "id": "c4d56c70",
   "metadata": {},
   "outputs": [
    {
     "data": {
      "image/png": "[encoded data removed]",
      "text/plain": [
       "<Figure size 640x480 with 1 Axes>"
      ]
     },
     "metadata": {},
     "output_type": "display_data"
    }
   ],
   "source": [
    "sns.countplot(x='Marital Status',data=df)\n",
    "plt.show()\n",
    "# 1.we can see that singles are the kind of people who are not returning back to the doctors for the further \n",
    "# check. there might be various reasons for this \n",
    "1. "
   ]
  },
  {
   "cell_type": "code",
   "execution_count": 9,
   "id": "b1e4cba2",
   "metadata": {},
   "outputs": [
    {
     "data": {
      "image/png": "[encoded data removed]",
      "text/plain": [
       "<Figure size 500x500 with 1 Axes>"
      ]
     },
     "metadata": {},
     "output_type": "display_data"
    }
   ],
   "source": [
    "sns.displot(x='Age',data=df)\n",
    "plt.show()"
   ]
  },
  {
   "cell_type": "code",
   "execution_count": 15,
   "id": "31bd8463",
   "metadata": {},
   "outputs": [
    {
     "data": {
      "image/png": "[encoded data removed]",
      "text/plain": [
       "<Figure size 640x480 with 1 Axes>"
      ]
     },
     "metadata": {},
     "output_type": "display_data"
    }
   ],
   "source": [
    "sns.boxplot(x='Age',data=df)\n",
    "plt.show()\n",
    "#there are no outliers present in our data"
   ]
  },
  {
   "cell_type": "code",
   "execution_count": 36,
   "id": "3127a861",
   "metadata": {},
   "outputs": [],
   "source": [
    "#Dropping the Use-less columns\n",
    "df.drop(columns =['Patient ID', 'Zip Code'],inplace=True)"
   ]
  },
  {
   "cell_type": "code",
   "execution_count": 37,
   "id": "67002b31",
   "metadata": {},
   "outputs": [
    {
     "data": {
      "text/html": [
       "<div>\n",
       "<style scoped>\n",
       "    .dataframe tbody tr th:only-of-type {\n",
       "        vertical-align: middle;\n",
       "    }\n",
       "\n",
       "    .dataframe tbody tr th {\n",
       "        vertical-align: top;\n",
       "    }\n",
       "\n",
       "    .dataframe thead th {\n",
       "        text-align: right;\n",
       "    }\n",
       "</style>\n",
       "<table border=\"1\" class=\"dataframe\">\n",
       "  <thead>\n",
       "    <tr style=\"text-align: right;\">\n",
       "      <th></th>\n",
       "      <th>Gender</th>\n",
       "      <th>Marital Status</th>\n",
       "      <th>City</th>\n",
       "      <th>State</th>\n",
       "      <th>Age</th>\n",
       "      <th>Procedure</th>\n",
       "      <th>Follow_up</th>\n",
       "    </tr>\n",
       "  </thead>\n",
       "  <tbody>\n",
       "    <tr>\n",
       "      <th>0</th>\n",
       "      <td>M</td>\n",
       "      <td>Married</td>\n",
       "      <td>Allison</td>\n",
       "      <td>CO</td>\n",
       "      <td>62</td>\n",
       "      <td>Extraction</td>\n",
       "      <td>Yes</td>\n",
       "    </tr>\n",
       "    <tr>\n",
       "      <th>1</th>\n",
       "      <td>F</td>\n",
       "      <td>Single</td>\n",
       "      <td>Allison</td>\n",
       "      <td>CO</td>\n",
       "      <td>94</td>\n",
       "      <td>Extraction</td>\n",
       "      <td>No</td>\n",
       "    </tr>\n",
       "    <tr>\n",
       "      <th>2</th>\n",
       "      <td>M</td>\n",
       "      <td>Divorced</td>\n",
       "      <td>Allison</td>\n",
       "      <td>CO</td>\n",
       "      <td>90</td>\n",
       "      <td>Extraction</td>\n",
       "      <td>No</td>\n",
       "    </tr>\n",
       "    <tr>\n",
       "      <th>3</th>\n",
       "      <td>F</td>\n",
       "      <td>Widowed</td>\n",
       "      <td>Allison</td>\n",
       "      <td>CO</td>\n",
       "      <td>81</td>\n",
       "      <td>Crown</td>\n",
       "      <td>No</td>\n",
       "    </tr>\n",
       "    <tr>\n",
       "      <th>4</th>\n",
       "      <td>F</td>\n",
       "      <td>Single</td>\n",
       "      <td>Allison</td>\n",
       "      <td>CO</td>\n",
       "      <td>45</td>\n",
       "      <td>Extraction</td>\n",
       "      <td>Yes</td>\n",
       "    </tr>\n",
       "  </tbody>\n",
       "</table>\n",
       "</div>"
      ],
      "text/plain": [
       "  Gender Marital Status     City State  Age   Procedure Follow_up\n",
       "0      M        Married  Allison    CO   62  Extraction       Yes\n",
       "1      F         Single  Allison    CO   94  Extraction        No\n",
       "2      M       Divorced  Allison    CO   90  Extraction        No\n",
       "3      F        Widowed  Allison    CO   81       Crown        No\n",
       "4      F         Single  Allison    CO   45  Extraction       Yes"
      ]
     },
     "execution_count": 37,
     "metadata": {},
     "output_type": "execute_result"
    }
   ],
   "source": [
    "df.head()"
   ]
  },
  {
   "cell_type": "code",
   "execution_count": 38,
   "id": "c9bc81ba",
   "metadata": {},
   "outputs": [
    {
     "data": {
      "text/html": [
       "<div>\n",
       "<style scoped>\n",
       "    .dataframe tbody tr th:only-of-type {\n",
       "        vertical-align: middle;\n",
       "    }\n",
       "\n",
       "    .dataframe tbody tr th {\n",
       "        vertical-align: top;\n",
       "    }\n",
       "\n",
       "    .dataframe thead th {\n",
       "        text-align: right;\n",
       "    }\n",
       "</style>\n",
       "<table border=\"1\" class=\"dataframe\">\n",
       "  <thead>\n",
       "    <tr style=\"text-align: right;\">\n",
       "      <th></th>\n",
       "      <th>Age</th>\n",
       "      <th>Gender_M</th>\n",
       "      <th>Gender_NC</th>\n",
       "      <th>Gender_P</th>\n",
       "      <th>Gender_T</th>\n",
       "      <th>Marital Status_Married</th>\n",
       "      <th>Marital Status_Partnership</th>\n",
       "      <th>Marital Status_Single</th>\n",
       "      <th>Marital Status_Widowed</th>\n",
       "      <th>City_Southern Ute</th>\n",
       "      <th>Procedure_Emergency Surgery</th>\n",
       "      <th>Procedure_Extraction</th>\n",
       "      <th>Procedure_Implant</th>\n",
       "      <th>Procedure_Veneers</th>\n",
       "      <th>Follow_up_Yes</th>\n",
       "    </tr>\n",
       "  </thead>\n",
       "  <tbody>\n",
       "    <tr>\n",
       "      <th>0</th>\n",
       "      <td>62</td>\n",
       "      <td>1</td>\n",
       "      <td>0</td>\n",
       "      <td>0</td>\n",
       "      <td>0</td>\n",
       "      <td>1</td>\n",
       "      <td>0</td>\n",
       "      <td>0</td>\n",
       "      <td>0</td>\n",
       "      <td>0</td>\n",
       "      <td>0</td>\n",
       "      <td>1</td>\n",
       "      <td>0</td>\n",
       "      <td>0</td>\n",
       "      <td>1</td>\n",
       "    </tr>\n",
       "    <tr>\n",
       "      <th>1</th>\n",
       "      <td>94</td>\n",
       "      <td>0</td>\n",
       "      <td>0</td>\n",
       "      <td>0</td>\n",
       "      <td>0</td>\n",
       "      <td>0</td>\n",
       "      <td>0</td>\n",
       "      <td>1</td>\n",
       "      <td>0</td>\n",
       "      <td>0</td>\n",
       "      <td>0</td>\n",
       "      <td>1</td>\n",
       "      <td>0</td>\n",
       "      <td>0</td>\n",
       "      <td>0</td>\n",
       "    </tr>\n",
       "    <tr>\n",
       "      <th>2</th>\n",
       "      <td>90</td>\n",
       "      <td>1</td>\n",
       "      <td>0</td>\n",
       "      <td>0</td>\n",
       "      <td>0</td>\n",
       "      <td>0</td>\n",
       "      <td>0</td>\n",
       "      <td>0</td>\n",
       "      <td>0</td>\n",
       "      <td>0</td>\n",
       "      <td>0</td>\n",
       "      <td>1</td>\n",
       "      <td>0</td>\n",
       "      <td>0</td>\n",
       "      <td>0</td>\n",
       "    </tr>\n",
       "    <tr>\n",
       "      <th>3</th>\n",
       "      <td>81</td>\n",
       "      <td>0</td>\n",
       "      <td>0</td>\n",
       "      <td>0</td>\n",
       "      <td>0</td>\n",
       "      <td>0</td>\n",
       "      <td>0</td>\n",
       "      <td>0</td>\n",
       "      <td>1</td>\n",
       "      <td>0</td>\n",
       "      <td>0</td>\n",
       "      <td>0</td>\n",
       "      <td>0</td>\n",
       "      <td>0</td>\n",
       "      <td>0</td>\n",
       "    </tr>\n",
       "    <tr>\n",
       "      <th>4</th>\n",
       "      <td>45</td>\n",
       "      <td>0</td>\n",
       "      <td>0</td>\n",
       "      <td>0</td>\n",
       "      <td>0</td>\n",
       "      <td>0</td>\n",
       "      <td>0</td>\n",
       "      <td>1</td>\n",
       "      <td>0</td>\n",
       "      <td>0</td>\n",
       "      <td>0</td>\n",
       "      <td>1</td>\n",
       "      <td>0</td>\n",
       "      <td>0</td>\n",
       "      <td>1</td>\n",
       "    </tr>\n",
       "  </tbody>\n",
       "</table>\n",
       "</div>"
      ],
      "text/plain": [
       "   Age  Gender_M  Gender_NC  Gender_P  Gender_T  Marital Status_Married  \\\n",
       "0   62         1          0         0         0                       1   \n",
       "1   94         0          0         0         0                       0   \n",
       "2   90         1          0         0         0                       0   \n",
       "3   81         0          0         0         0                       0   \n",
       "4   45         0          0         0         0                       0   \n",
       "\n",
       "   Marital Status_Partnership  Marital Status_Single  Marital Status_Widowed  \\\n",
       "0                           0                      0                       0   \n",
       "1                           0                      1                       0   \n",
       "2                           0                      0                       0   \n",
       "3                           0                      0                       1   \n",
       "4                           0                      1                       0   \n",
       "\n",
       "   City_Southern Ute  Procedure_Emergency Surgery  Procedure_Extraction  \\\n",
       "0                  0                            0                     1   \n",
       "1                  0                            0                     1   \n",
       "2                  0                            0                     1   \n",
       "3                  0                            0                     0   \n",
       "4                  0                            0                     1   \n",
       "\n",
       "   Procedure_Implant  Procedure_Veneers  Follow_up_Yes  \n",
       "0                  0                  0              1  \n",
       "1                  0                  0              0  \n",
       "2                  0                  0              0  \n",
       "3                  0                  0              0  \n",
       "4                  0                  0              1  "
      ]
     },
     "execution_count": 38,
     "metadata": {},
     "output_type": "execute_result"
    }
   ],
   "source": [
    "df = pd.get_dummies(df,drop_first=True)\n",
    "df.head()"
   ]
  },
  {
   "cell_type": "code",
   "execution_count": 41,
   "id": "1731613b",
   "metadata": {},
   "outputs": [],
   "source": [
    "# Spliting The Data \n",
    "x=df.drop('Follow_up_Yes',axis=1)\n",
    "y=df['Follow_up_Yes']"
   ]
  },
  {
   "cell_type": "code",
   "execution_count": 59,
   "id": "84e48f5b",
   "metadata": {},
   "outputs": [
    {
     "data": {
      "text/plain": [
       "((69, 14), (30, 14), (69,), (30,))"
      ]
     },
     "execution_count": 59,
     "metadata": {},
     "output_type": "execute_result"
    }
   ],
   "source": [
    "x_train,x_test,y_train,y_test=train_test_split(x,y,random_state=42,test_size=0.3)\n",
    "x_train.shape,x_test.shape,y_train.shape,y_test.shape"
   ]
  },
  {
   "cell_type": "code",
   "execution_count": 60,
   "id": "a398913a",
   "metadata": {},
   "outputs": [
    {
     "data": {
      "text/plain": [
       "LogisticRegression()"
      ]
     },
     "execution_count": 60,
     "metadata": {},
     "output_type": "execute_result"
    }
   ],
   "source": [
    "from sklearn.linear_model import LogisticRegression\n",
    "Lr=LogisticRegression()\n",
    "Lr.fit(x_train,y_train)"
   ]
  },
  {
   "cell_type": "code",
   "execution_count": 61,
   "id": "bb8b9c73",
   "metadata": {},
   "outputs": [],
   "source": [
    "y_test_pred=Lr.predict(x_test)\n",
    "y_train_pred=Lr.predict(x_train)"
   ]
  },
  {
   "cell_type": "code",
   "execution_count": 52,
   "id": "8f75a9e9",
   "metadata": {},
   "outputs": [],
   "source": [
    "from sklearn.metrics import accuracy_score"
   ]
  },
  {
   "cell_type": "code",
   "execution_count": 62,
   "id": "5a385faa",
   "metadata": {},
   "outputs": [
    {
     "data": {
      "text/plain": [
       "0.8260869565217391"
      ]
     },
     "execution_count": 62,
     "metadata": {},
     "output_type": "execute_result"
    }
   ],
   "source": [
    "accuracy_score(y_train,y_train_pred)"
   ]
  },
  {
   "cell_type": "code",
   "execution_count": 63,
   "id": "5dd936b1",
   "metadata": {},
   "outputs": [
    {
     "data": {
      "text/plain": [
       "0.7333333333333333"
      ]
     },
     "execution_count": 63,
     "metadata": {},
     "output_type": "execute_result"
    }
   ],
   "source": [
    "accuracy_score(y_test,y_test_pred)"
   ]
  },
  {
   "cell_type": "code",
   "execution_count": 64,
   "id": "640e34a3",
   "metadata": {},
   "outputs": [
    {
     "name": "stderr",
     "output_type": "stream",
     "text": [
      "C:\\Users\\Gaura\\anaconda3\\lib\\site-packages\\sklearn\\utils\\deprecation.py:87: FutureWarning: Function plot_confusion_matrix is deprecated; Function `plot_confusion_matrix` is deprecated in 1.0 and will be removed in 1.2. Use one of the class methods: ConfusionMatrixDisplay.from_predictions or ConfusionMatrixDisplay.from_estimator.\n",
      "  warnings.warn(msg, category=FutureWarning)\n"
     ]
    },
    {
     "data": {
      "text/plain": [
       "<sklearn.metrics._plot.confusion_matrix.ConfusionMatrixDisplay at 0x2611b1fdc70>"
      ]
     },
     "execution_count": 64,
     "metadata": {},
     "output_type": "execute_result"
    },
    {
     "data": {
      "image/png": "[encoded data removed]",
      "text/plain": [
       "<Figure size 640x480 with 2 Axes>"
      ]
     },
     "metadata": {},
     "output_type": "display_data"
    }
   ],
   "source": [
    "from sklearn.metrics import plot_confusion_matrix\n",
    "plot_confusion_matrix(Lr,x_test,y_test)"
   ]
  },
  {
   "cell_type": "code",
   "execution_count": 65,
   "id": "e5a8f353",
   "metadata": {},
   "outputs": [
    {
     "name": "stdout",
     "output_type": "stream",
     "text": [
      "[0.85       0.8        0.6        0.85       0.78947368]\n",
      "The mean Cross-Validation score is: 0.7778947368421052\n"
     ]
    },
    {
     "name": "stderr",
     "output_type": "stream",
     "text": [
      "C:\\Users\\Gaura\\anaconda3\\lib\\site-packages\\sklearn\\linear_model\\_logistic.py:814: ConvergenceWarning: lbfgs failed to converge (status=1):\n",
      "STOP: TOTAL NO. of ITERATIONS REACHED LIMIT.\n",
      "\n",
      "Increase the number of iterations (max_iter) or scale the data as shown in:\n",
      "    https://scikit-learn.org/stable/modules/preprocessing.html\n",
      "Please also refer to the documentation for alternative solver options:\n",
      "    https://scikit-learn.org/stable/modules/linear_model.html#logistic-regression\n",
      "  n_iter_i = _check_optimize_result(\n",
      "C:\\Users\\Gaura\\anaconda3\\lib\\site-packages\\sklearn\\linear_model\\_logistic.py:814: ConvergenceWarning: lbfgs failed to converge (status=1):\n",
      "STOP: TOTAL NO. of ITERATIONS REACHED LIMIT.\n",
      "\n",
      "Increase the number of iterations (max_iter) or scale the data as shown in:\n",
      "    https://scikit-learn.org/stable/modules/preprocessing.html\n",
      "Please also refer to the documentation for alternative solver options:\n",
      "    https://scikit-learn.org/stable/modules/linear_model.html#logistic-regression\n",
      "  n_iter_i = _check_optimize_result(\n"
     ]
    }
   ],
   "source": [
    "from sklearn.model_selection import cross_val_score\n",
    "scores=cross_val_score(Lr,x,y,cv=5)\n",
    "print(scores)\n",
    "cv_score=scores.mean()\n",
    "print('The mean Cross-Validation score is:',cv_score)"
   ]
  },
  {
   "cell_type": "code",
   "execution_count": 66,
   "id": "4f72f867",
   "metadata": {},
   "outputs": [
    {
     "name": "stderr",
     "output_type": "stream",
     "text": [
      "C:\\Users\\Gaura\\anaconda3\\lib\\site-packages\\sklearn\\utils\\deprecation.py:87: FutureWarning: Function plot_roc_curve is deprecated; Function :func:`plot_roc_curve` is deprecated in 1.0 and will be removed in 1.2. Use one of the class methods: :meth:`sklearn.metric.RocCurveDisplay.from_predictions` or :meth:`sklearn.metric.RocCurveDisplay.from_estimator`.\n",
      "  warnings.warn(msg, category=FutureWarning)\n"
     ]
    },
    {
     "data": {
      "text/plain": [
       "<sklearn.metrics._plot.roc_curve.RocCurveDisplay at 0x2611b3d9190>"
      ]
     },
     "execution_count": 66,
     "metadata": {},
     "output_type": "execute_result"
    },
    {
     "data": {
      "image/png": "[encoded data removed]",
      "text/plain": [
       "<Figure size 640x480 with 1 Axes>"
      ]
     },
     "metadata": {},
     "output_type": "display_data"
    }
   ],
   "source": [
    "from sklearn.metrics import plot_roc_curve\n",
    "plot_roc_curve(Lr,x_test,y_test)"
   ]
  },
  {
   "cell_type": "code",
   "execution_count": null,
   "id": "4d932dc8",
   "metadata": {},
   "outputs": [],
   "source": []
  }
 ],
 "metadata": {
  "kernelspec": {
   "display_name": "Python 3 (ipykernel)",
   "language": "python",
   "name": "python3"
  },
  "language_info": {
   "codemirror_mode": {
    "name": "ipython",
    "version": 3
   },
   "file_extension": ".py",
   "mimetype": "text/x-python",
   "name": "python",
   "nbconvert_exporter": "python",
   "pygments_lexer": "ipython3",
   "version": "3.9.13"
  }
 },
 "nbformat": 4,
 "nbformat_minor": 5
}
